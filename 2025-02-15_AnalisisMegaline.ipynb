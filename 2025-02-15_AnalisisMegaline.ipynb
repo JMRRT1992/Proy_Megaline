{
 "cells": [
  {
   "cell_type": "markdown",
   "metadata": {
    "id": "3rYiDeEH0q0f"
   },
   "source": [
    "# ¿Cuál es la mejor tarifa?\n",
    "\n",
    "Trabajas como analista para el operador de telecomunicaciones Megaline. La empresa ofrece a sus clientes dos tarifas de prepago, Surf y Ultimate. El departamento comercial quiere saber cuál de las tarifas genera más ingresos para poder ajustar el presupuesto de publicidad.\n",
    "\n",
    "Vas a realizar un análisis preliminar de las tarifas basado en una selección de clientes relativamente pequeña. Tendrás los datos de 500 clientes de Megaline: quiénes son los clientes, de dónde son, qué tarifa usan, así como la cantidad de llamadas que hicieron y los mensajes de texto que enviaron en 2018. Tu trabajo es analizar el comportamiento de los clientes y determinar qué tarifa de prepago genera más ingresos."
   ]
  },
  {
   "cell_type": "markdown",
   "metadata": {
    "id": "VNddPNRQ0q0w"
   },
   "source": [
    "### Objetivo del proyecto:\n",
    "\n",
    "A lo largo de este proyecto, se buscará tener un conocimiento más profundo acerca de los clientes de la empresa de telecomunicaciones **Megaline** y sus patrones de consumo respecto a llamadas y mensajes de texto en 2018 a fin de poder determinar cuál de las tarifas de prepago que actualmente cobra Megaliner resulta ser la que más ingresos genera.\n",
    "\n",
    "### Acciones planeadas:\n",
    "\n",
    "Para poder cumplir de forma adecuada con el objetivo previamente establecido, de forma general, los pasos a seguir serán estos:\n",
    "1) Inicializar el cuaderno importando las librerías a utilizar y cargando los datos en dataframes de Pandas.\n",
    "2) Analizar el estado \"inicial\" de los datos para conocer el tipo de dato que hay por variable (columna), el número de registros faltantes y número de registros duplicados.\n",
    "3) Realizar las correcciones de tipo de datos (donde correspondan) y homogeneizar la presentación de los datos en forma de texto convirtíendolos todos en minúsculas, quitando espacios iniciales y finales y cualquier otro detalle que nos dificulte la comparación de cadenas de texto.\n",
    "4) Eliminar registros duplicados (si aplica) y rellenar o eliminar los registros ausentes.\n",
    "5) Reordenar la información de modo que podamos ligar a los usuarios con su tarifa y sus consumos de llamadas y mensajes de texto.\n",
    "6) Obtener las medidas de tendencia central y disperción.\n",
    "7) Comparar la información y obtener los resultados."
   ]
  },
  {
   "cell_type": "markdown",
   "metadata": {
    "id": "MQi4IPy70q0y"
   },
   "source": [
    "## Inicialización"
   ]
  },
  {
   "cell_type": "code",
   "execution_count": 1,
   "metadata": {
    "id": "MtYIuBxu0q0z"
   },
   "outputs": [],
   "source": [
    "# Cargar todas las librerías\n",
    "import pandas as pd\n",
    "import numpy as np\n",
    "from matplotlib import pyplot as plt\n",
    "from scipy import stats as st"
   ]
  },
  {
   "cell_type": "markdown",
   "metadata": {
    "id": "4ysWWC5i0q00"
   },
   "source": [
    "## Cargar datos"
   ]
  },
  {
   "cell_type": "code",
   "execution_count": 2,
   "metadata": {
    "id": "CCqPW7rS0q01"
   },
   "outputs": [],
   "source": [
    "# Carga los archivos de datos en diferentes DataFrames/datasets/megaline_calls.csv Descargar conjunto de datos\n",
    "df_calls = pd.read_csv(\"/datasets/megaline_calls.csv\")\n",
    "df_internet = pd.read_csv(\"/datasets/megaline_internet.csv\")\n",
    "df_messages = pd.read_csv(\"/datasets/megaline_messages.csv\")\n",
    "df_plans = pd.read_csv(\"/datasets/megaline_plans.csv\")\n",
    "df_users = pd.read_csv(\"/datasets/megaline_users.csv\")"
   ]
  },
  {
   "cell_type": "markdown",
   "metadata": {
    "id": "69qqoJ3r0q01"
   },
   "source": [
    "## Preparar los datos"
   ]
  },
  {
   "cell_type": "markdown",
   "metadata": {
    "id": "vUuZw80S0q01"
   },
   "source": [
    "Iniciamos explorando cada dataframe para conocer el tipo de datos por columna, la cantidad de duplicados y valores ausentes."
   ]
  },
  {
   "cell_type": "code",
   "execution_count": 3,
   "metadata": {},
   "outputs": [
    {
     "name": "stdout",
     "output_type": "stream",
     "text": [
      "df_calls\n",
      "\n",
      " Una muestra aleatoria del df para darnos una idea de su contenido: \n",
      "                id  user_id   call_date  duration\n",
      "35807    1134_129     1134  2018-12-20      2.27\n",
      "126445    1449_67     1449  2018-10-08      7.40\n",
      "73655    1261_426     1261  2018-10-06      8.68\n",
      "102372  1362_1149     1362  2018-06-10     12.04\n",
      "63428    1231_142     1231  2018-10-28     12.75\n",
      "\n",
      "Los tipos da dato por columna son: \n",
      " id            object\n",
      "user_id        int64\n",
      "call_date     object\n",
      "duration     float64\n",
      "dtype: object\n",
      "\n",
      "En cada columna hay estos valores ausentes: \n",
      " id           0\n",
      "user_id      0\n",
      "call_date    0\n",
      "duration     0\n",
      "dtype: int64\n",
      "\n",
      "El df tiene esta cantidad de registros duplicados: \n",
      " 0\n",
      "\n",
      "\n",
      "df_internet\n",
      "\n",
      " Una muestra aleatoria del df para darnos una idea de su contenido: \n",
      "               id  user_id session_date  mb_used\n",
      "22322   1101_214     1101   2018-07-14   276.41\n",
      "102807   1492_40     1492   2018-10-27   211.57\n",
      "96105    1449_18     1449   2018-11-03   543.62\n",
      "42669   1189_184     1189   2018-12-13     0.00\n",
      "91120    1420_13     1420   2018-12-30   539.06\n",
      "\n",
      "Los tipos da dato por columna son: \n",
      " id               object\n",
      "user_id           int64\n",
      "session_date     object\n",
      "mb_used         float64\n",
      "dtype: object\n",
      "\n",
      "En cada columna hay estos valores ausentes: \n",
      " id              0\n",
      "user_id         0\n",
      "session_date    0\n",
      "mb_used         0\n",
      "dtype: int64\n",
      "\n",
      "El df tiene esta cantidad de registros duplicados: \n",
      " 0\n",
      "\n",
      "\n",
      "df_messages\n",
      "\n",
      " Una muestra aleatoria del df para darnos una idea de su contenido: \n",
      "               id  user_id message_date\n",
      "60747   1382_437     1382   2018-09-05\n",
      "50064  1328_1022     1328   2018-09-11\n",
      "22947   1137_432     1137   2018-10-05\n",
      "7484    1059_366     1059   2018-12-03\n",
      "74815   1484_460     1484   2018-12-26\n",
      "\n",
      "Los tipos da dato por columna son: \n",
      " id              object\n",
      "user_id          int64\n",
      "message_date    object\n",
      "dtype: object\n",
      "\n",
      "En cada columna hay estos valores ausentes: \n",
      " id              0\n",
      "user_id         0\n",
      "message_date    0\n",
      "dtype: int64\n",
      "\n",
      "El df tiene esta cantidad de registros duplicados: \n",
      " 0\n",
      "\n",
      "\n",
      "df_plans\n",
      "\n",
      " Una muestra aleatoria del df para darnos una idea de su contenido: \n",
      "    messages_included  mb_per_month_included  minutes_included  \\\n",
      "1               1000                  30720              3000   \n",
      "0                 50                  15360               500   \n",
      "\n",
      "   usd_monthly_pay  usd_per_gb  usd_per_message  usd_per_minute plan_name  \n",
      "1               70           7             0.01            0.01  ultimate  \n",
      "0               20          10             0.03            0.03      surf  \n",
      "\n",
      "Los tipos da dato por columna son: \n",
      " messages_included          int64\n",
      "mb_per_month_included      int64\n",
      "minutes_included           int64\n",
      "usd_monthly_pay            int64\n",
      "usd_per_gb                 int64\n",
      "usd_per_message          float64\n",
      "usd_per_minute           float64\n",
      "plan_name                 object\n",
      "dtype: object\n",
      "\n",
      "En cada columna hay estos valores ausentes: \n",
      " messages_included        0\n",
      "mb_per_month_included    0\n",
      "minutes_included         0\n",
      "usd_monthly_pay          0\n",
      "usd_per_gb               0\n",
      "usd_per_message          0\n",
      "usd_per_minute           0\n",
      "plan_name                0\n",
      "dtype: int64\n",
      "\n",
      "El df tiene esta cantidad de registros duplicados: \n",
      " 0\n",
      "\n",
      "\n",
      "df_users\n",
      "\n",
      " Una muestra aleatoria del df para darnos una idea de su contenido: \n",
      "      user_id  first_name last_name  age  \\\n",
      "374     1374       Ching     Watts   55   \n",
      "193     1193    Lacresha     Olsen   18   \n",
      "240     1240       Drema     Lopez   61   \n",
      "307     1307  Kristopher      Lang   28   \n",
      "445     1445      Elodia   Donovan   71   \n",
      "\n",
      "                                         city    reg_date      plan churn_date  \n",
      "374    Louisville/Jefferson County, KY-IN MSA  2018-02-14      surf        NaN  \n",
      "193  Houston-The Woodlands-Sugar Land, TX MSA  2018-07-07      surf        NaN  \n",
      "240                       Baton Rouge, LA MSA  2018-03-18      surf        NaN  \n",
      "307        Boston-Cambridge-Newton, MA-NH MSA  2018-12-31      surf        NaN  \n",
      "445       Dallas-Fort Worth-Arlington, TX MSA  2018-01-27  ultimate        NaN  \n",
      "\n",
      "Los tipos da dato por columna son: \n",
      " user_id        int64\n",
      "first_name    object\n",
      "last_name     object\n",
      "age            int64\n",
      "city          object\n",
      "reg_date      object\n",
      "plan          object\n",
      "churn_date    object\n",
      "dtype: object\n",
      "\n",
      "En cada columna hay estos valores ausentes: \n",
      " user_id         0\n",
      "first_name      0\n",
      "last_name       0\n",
      "age             0\n",
      "city            0\n",
      "reg_date        0\n",
      "plan            0\n",
      "churn_date    466\n",
      "dtype: int64\n",
      "\n",
      "El df tiene esta cantidad de registros duplicados: \n",
      " 0\n",
      "\n",
      "\n"
     ]
    }
   ],
   "source": [
    "# Hacemos una lista con los dataframes y un for-loop para visualizar la información en cada uno de ellos.\n",
    "lista_df = [df_calls, df_internet, df_messages, df_plans, df_users]\n",
    "\n",
    "# Declaramos una función que nos permita ver el nombre del df (ya que al intentar llamar al atributo \".name\" dentro del\n",
    "# for-loop enviaba error).\n",
    "def get_df_name(df):\n",
    "    name =[x for x in globals() if globals()[x] is df][0]\n",
    "    return name\n",
    "\n",
    "# Aplicamos el for-loop\n",
    "for df in lista_df:\n",
    "    print(get_df_name(df))\n",
    "    if df.shape[0] > 5:\n",
    "        print(\"\\n Una muestra aleatoria del df para darnos una idea de su contenido: \\n\",df.sample(5))\n",
    "    else:\n",
    "        print(\"\\n Una muestra aleatoria del df para darnos una idea de su contenido: \\n\",df.sample(df.shape[0]))\n",
    "    print(\"\\nLos tipos da dato por columna son: \\n\",df.dtypes)\n",
    "    print(\"\\nEn cada columna hay estos valores ausentes: \\n\",df.isna().sum())\n",
    "    print(\"\\nEl df tiene esta cantidad de registros duplicados: \\n\",df.duplicated().sum())\n",
    "    print(\"\\n\")"
   ]
  },
  {
   "cell_type": "markdown",
   "metadata": {
    "id": "ohBhimvH0q01"
   },
   "source": [
    "## Tarifas"
   ]
  },
  {
   "cell_type": "code",
   "execution_count": 4,
   "metadata": {
    "id": "GptqP3Q40q02"
   },
   "outputs": [
    {
     "name": "stdout",
     "output_type": "stream",
     "text": [
      "                       count      mean           std       min        25%  \\\n",
      "messages_included        2.0    525.00    671.751442     50.00    287.500   \n",
      "mb_per_month_included    2.0  23040.00  10861.160159  15360.00  19200.000   \n",
      "minutes_included         2.0   1750.00   1767.766953    500.00   1125.000   \n",
      "usd_monthly_pay          2.0     45.00     35.355339     20.00     32.500   \n",
      "usd_per_gb               2.0      8.50      2.121320      7.00      7.750   \n",
      "usd_per_message          2.0      0.02      0.014142      0.01      0.015   \n",
      "usd_per_minute           2.0      0.02      0.014142      0.01      0.015   \n",
      "\n",
      "                            50%        75%       max  \n",
      "messages_included        525.00    762.500   1000.00  \n",
      "mb_per_month_included  23040.00  26880.000  30720.00  \n",
      "minutes_included        1750.00   2375.000   3000.00  \n",
      "usd_monthly_pay           45.00     57.500     70.00  \n",
      "usd_per_gb                 8.50      9.250     10.00  \n",
      "usd_per_message            0.02      0.025      0.03  \n",
      "usd_per_minute             0.02      0.025      0.03  \n"
     ]
    }
   ],
   "source": [
    "# Imprime la información general/resumida sobre el DataFrame de las tarifas\n",
    "print(df_plans.describe().T)"
   ]
  },
  {
   "cell_type": "code",
   "execution_count": 5,
   "metadata": {
    "id": "64xzjwL70q02"
   },
   "outputs": [
    {
     "name": "stdout",
     "output_type": "stream",
     "text": [
      "   messages_included  mb_per_month_included  minutes_included  \\\n",
      "1               1000                  30720              3000   \n",
      "0                 50                  15360               500   \n",
      "\n",
      "   usd_monthly_pay  usd_per_gb  usd_per_message  usd_per_minute plan_name  \n",
      "1               70           7             0.01            0.01  ultimate  \n",
      "0               20          10             0.03            0.03      surf  \n"
     ]
    }
   ],
   "source": [
    "# Imprime una muestra de los datos para las tarifas\n",
    "print(df_plans.sample(df_plans.shape[0]))\n"
   ]
  },
  {
   "cell_type": "markdown",
   "metadata": {
    "id": "mEc_3_hs0q02"
   },
   "source": [
    "#### Observaciones:\n",
    "Para este dataframe de Tarifas (*plans*), se pueden apreciar 3 detalles que hay que cuidar:\n",
    "1) Los planes incluyen \"mb\", sin embargo, el cobro es por \"gb\". 1 Gb = 1024 Mb; esta conversión será importante.\n",
    "2) Todas las variables de costo (empiezan con \"usd\") deberán pasarse a tipo float para garantizar la integridad en las operaciones matemáticas.\n",
    "3) Es importante considerar que la variable \"usd_monthly_pay\" siempre se sumará, incluso cuando se excedan los minutos, mensajes o internet del plan."
   ]
  },
  {
   "cell_type": "markdown",
   "metadata": {
    "id": "R3C05i1l0q03"
   },
   "source": [
    "## Corregir datos"
   ]
  },
  {
   "cell_type": "markdown",
   "metadata": {
    "id": "bIi8StZI0q03"
   },
   "source": [
    "Se cambiará el tipo de dato de todas las columnas que inician con \"usd\" a float como se estableció antes:"
   ]
  },
  {
   "cell_type": "code",
   "execution_count": 6,
   "metadata": {
    "id": "Y7SVmjGn0q03"
   },
   "outputs": [
    {
     "name": "stdout",
     "output_type": "stream",
     "text": [
      "messages_included          int64\n",
      "mb_per_month_included      int64\n",
      "minutes_included           int64\n",
      "usd_monthly_pay          float64\n",
      "usd_per_gb               float64\n",
      "usd_per_message          float64\n",
      "usd_per_minute           float64\n",
      "plan_name                 object\n",
      "dtype: object\n"
     ]
    }
   ],
   "source": [
    "# Seleccionamos las columnas a trabajar:\n",
    "columnas_usd = ['usd_monthly_pay', 'usd_per_gb', 'usd_per_message', 'usd_per_minute']\n",
    "\n",
    "# Creamos un for-loop para hacer el cambio:\n",
    "for column in df_plans.columns:\n",
    "    if column in columnas_usd:\n",
    "        df_plans[column] = df_plans[column].astype(float)\n",
    "\n",
    "# Imprimimos confirmación de los resultados:\n",
    "print(df_plans.dtypes)"
   ]
  },
  {
   "cell_type": "markdown",
   "metadata": {
    "id": "LJir7bml0q03"
   },
   "source": [
    "## Enriquecer los datos"
   ]
  },
  {
   "cell_type": "markdown",
   "metadata": {
    "id": "eqADpCfg0q04"
   },
   "source": [
    "Por posterior comodidad, agregaremos una columna con los Gb incluidos en el plan:"
   ]
  },
  {
   "cell_type": "code",
   "execution_count": 7,
   "metadata": {
    "id": "gfcIEuXV0q04"
   },
   "outputs": [
    {
     "name": "stdout",
     "output_type": "stream",
     "text": [
      "   messages_included  mb_per_month_included  minutes_included  \\\n",
      "0                 50                  15360               500   \n",
      "1               1000                  30720              3000   \n",
      "\n",
      "   usd_monthly_pay  usd_per_gb  usd_per_message  usd_per_minute plan_name  \\\n",
      "0             20.0        10.0             0.03            0.03      surf   \n",
      "1             70.0         7.0             0.01            0.01  ultimate   \n",
      "\n",
      "   gb_per_month_included  \n",
      "0                   15.0  \n",
      "1                   30.0  \n"
     ]
    }
   ],
   "source": [
    "df_plans['gb_per_month_included'] = df_plans['mb_per_month_included'] / 1024\n",
    "\n",
    "# Imprimimos para validar:\n",
    "print(df_plans.head(3))"
   ]
  },
  {
   "cell_type": "markdown",
   "metadata": {
    "id": "1n2X6WXf0q04"
   },
   "source": [
    "## Usuarios/as"
   ]
  },
  {
   "cell_type": "code",
   "execution_count": 8,
   "metadata": {
    "id": "2NgjWFqx0q05"
   },
   "outputs": [
    {
     "name": "stdout",
     "output_type": "stream",
     "text": [
      "         count      mean         std     min      25%     50%      75%     max\n",
      "user_id  500.0  1249.500  144.481833  1000.0  1124.75  1249.5  1374.25  1499.0\n",
      "age      500.0    45.486   16.972269    18.0    30.00    46.0    61.00    75.0\n"
     ]
    }
   ],
   "source": [
    "# Imprime la información general/resumida sobre el DataFrame de usuarios\n",
    "print(df_users.describe().T)"
   ]
  },
  {
   "cell_type": "code",
   "execution_count": 9,
   "metadata": {
    "id": "1IN1L9uh0q05"
   },
   "outputs": [
    {
     "name": "stdout",
     "output_type": "stream",
     "text": [
      "     user_id first_name  last_name  age  \\\n",
      "444     1444     Glinda  Dickerson   70   \n",
      "40      1040      Paris     Santos   72   \n",
      "456     1456    Seymour      Olsen   66   \n",
      "270     1270   Anjelica       Chan   70   \n",
      "372     1372     Patria        Kim   26   \n",
      "\n",
      "                                                city    reg_date      plan  \\\n",
      "444                        New Haven-Milford, CT MSA  2018-06-20      surf   \n",
      "40   Philadelphia-Camden-Wilmington, PA-NJ-DE-MD MSA  2018-12-23      surf   \n",
      "456      Minneapolis-St. Paul-Bloomington, MN-WI MSA  2018-06-02  ultimate   \n",
      "270  Philadelphia-Camden-Wilmington, PA-NJ-DE-MD MSA  2018-09-18  ultimate   \n",
      "372        New York-Newark-Jersey City, NY-NJ-PA MSA  2018-10-08      surf   \n",
      "\n",
      "     churn_date  \n",
      "444         NaN  \n",
      "40   2018-12-30  \n",
      "456         NaN  \n",
      "270         NaN  \n",
      "372         NaN  \n"
     ]
    }
   ],
   "source": [
    "# Imprime una muestra de datos para usuarios\n",
    "print(df_users.sample(5))"
   ]
  },
  {
   "cell_type": "markdown",
   "metadata": {
    "id": "dCZoUq4f0q06"
   },
   "source": [
    "#### Observaciones:\n",
    "Al explorar el df de usuarios, se tienen las siguientes observaciones:\n",
    "1) Cambiar el tipo de datos para las fechas (reg y churn) a uno adecuado para realizar operaciones de fechas (datetime).\n",
    "2) Para el manejo de los valores faltantes en la columna churn, podemos aplicar una de dos alternativas:\n",
    "    \n",
    "    a) Reemplazar por la fecha de hoy y, cuando se requiera, validar que si la fecha de churn es igual a la de hoy...\n",
    "    \n",
    "    b) Dejarlos como NaN y, cuando se requiera, validar que si el valor es NaN, entonces...\n",
    "3) Separar la columna de ciudad mediante la coma que separa la ciudad de la abreviatura del estado.\n",
    "    \n",
    "    a) Aquí se detecta que hay registros con más de una ciudad y más de un estado, a priori se propone utilizar solo el último registrado."
   ]
  },
  {
   "cell_type": "markdown",
   "metadata": {
    "id": "BX5FQh_I0q06"
   },
   "source": [
    "### Corregir los datos"
   ]
  },
  {
   "cell_type": "markdown",
   "metadata": {
    "id": "8OdKMwJv0q06"
   },
   "source": [
    "Realizamos las modificaciones propuestas en el punto anterior."
   ]
  },
  {
   "cell_type": "code",
   "execution_count": 10,
   "metadata": {
    "id": "yUqX-K0C0q07"
   },
   "outputs": [
    {
     "name": "stdout",
     "output_type": "stream",
     "text": [
      "user_id                int64\n",
      "first_name            object\n",
      "last_name             object\n",
      "age                    int64\n",
      "city                  object\n",
      "reg_date      datetime64[ns]\n",
      "plan                  object\n",
      "churn_date    datetime64[ns]\n",
      "dtype: object\n"
     ]
    }
   ],
   "source": [
    "df_users['reg_date'] = pd.to_datetime(df_users['reg_date'])\n",
    "df_users['churn_date'] = pd.to_datetime(df_users['churn_date'])\n",
    "\n",
    "# Imprimimos para comprobar:\n",
    "print(df_users.dtypes)"
   ]
  },
  {
   "cell_type": "markdown",
   "metadata": {
    "id": "ycwuARJp0q07"
   },
   "source": [
    "### Enriquecer los datos"
   ]
  },
  {
   "cell_type": "markdown",
   "metadata": {
    "id": "96NIh4CJ0q08"
   },
   "source": [
    "Consideramos que la forma de enriquecer los datos es dividiendo la columna de city como se ha mencionado antes:"
   ]
  },
  {
   "cell_type": "code",
   "execution_count": 50,
   "metadata": {
    "id": "iq0AaBS90q08"
   },
   "outputs": [
    {
     "name": "stdout",
     "output_type": "stream",
     "text": [
      "     user_id first_name last_name  age  \\\n",
      "64      1064    Gerardo    Ashley   46   \n",
      "488     1488    Shirley     Jones   29   \n",
      "109     1109    Dominic   Salinas   41   \n",
      "94      1094     Walter  Petersen   54   \n",
      "356     1356        Hae      Ryan   46   \n",
      "\n",
      "                                          city   reg_date  plan churn_date  \\\n",
      "64   New York-Newark-Jersey City, NY-NJ-PA MSA 2018-06-03  surf        NaT   \n",
      "488                        Baton Rouge, LA MSA 2018-05-15  surf        NaT   \n",
      "109  New York-Newark-Jersey City, NY-NJ-PA MSA 2018-02-16  surf        NaT   \n",
      "94      Los Angeles-Long Beach-Anaheim, CA MSA 2018-10-30  surf 2018-12-12   \n",
      "356                 Milwaukee-Waukesha, WI MSA 2018-05-16  surf        NaT   \n",
      "\n",
      "       city_corr state_code  \n",
      "64   Jersey City   NY-NJ-PA  \n",
      "488  Baton Rouge         LA  \n",
      "109  Jersey City   NY-NJ-PA  \n",
      "94       Anaheim         CA  \n",
      "356     Waukesha         WI  \n"
     ]
    }
   ],
   "source": [
    "# Ciclamos a lo largo de la columna de ciudad para obtener los valores de la ciudad y del código del estado:\n",
    "for i,row in df_users.iterrows():\n",
    "    split_list = row[\"city\"].split(\", \")\n",
    "    city = split_list[0].split(\"-\")\n",
    "    df_users.loc[i,\"city_corr\"] = city[len(city)-1]\n",
    "    state_code = split_list[1].split(\" \")\n",
    "    df_users.loc[i,\"state_code\"] = state_code[0]\n",
    "    \n",
    "# Imprimimos para verificar todo saliera como se esperaba:\n",
    "print(df_users.sample(5))"
   ]
  },
  {
   "cell_type": "markdown",
   "metadata": {
    "id": "o7MeKCid0q08"
   },
   "source": [
    "## Llamadas"
   ]
  },
  {
   "cell_type": "code",
   "execution_count": 12,
   "metadata": {
    "id": "6dDlnoDm0q08"
   },
   "outputs": [
    {
     "name": "stdout",
     "output_type": "stream",
     "text": [
      "             count         mean         std     min      25%      50%  \\\n",
      "user_id   137735.0  1247.658046  139.416268  1000.0  1128.00  1247.00   \n",
      "duration  137735.0     6.745927    5.839241     0.0     1.29     5.98   \n",
      "\n",
      "              75%     max  \n",
      "user_id   1365.00  1499.0  \n",
      "duration    10.69    37.6  \n"
     ]
    }
   ],
   "source": [
    "# Imprime la información general/resumida sobre el DataFrame de las llamadas\n",
    "print(df_calls.describe().T)"
   ]
  },
  {
   "cell_type": "code",
   "execution_count": 13,
   "metadata": {
    "id": "kuh1vlNB0q09"
   },
   "outputs": [
    {
     "name": "stdout",
     "output_type": "stream",
     "text": [
      "              id  user_id   call_date  duration\n",
      "8371    1039_311     1039  2018-09-30     12.46\n",
      "112726  1397_356     1397  2018-08-06      2.53\n",
      "83955   1305_438     1305  2018-06-27      3.61\n",
      "23545     1087_1     1087  2018-12-06      5.40\n",
      "135075  1490_175     1490  2018-11-30      0.00\n"
     ]
    }
   ],
   "source": [
    "# Imprime una muestra de datos para las llamadas\n",
    "print(df_calls.sample(5))"
   ]
  },
  {
   "cell_type": "markdown",
   "metadata": {
    "id": "DOAxYJSx0q09"
   },
   "source": [
    "#### Observaciones:\n",
    "Para este df de llamadas, el único cambio a realizar será cambiar el tipo de dato de \"call_date\" a una fecha. Sin embargo, al observar la estructura del id de la tabla, se aprecia que consta de dos partes, siendo la primera el id del usuario, por lo que se supone que la segunda parte es el número de llamada realizada, así que crearemos una columna que almacene este dato.\n",
    "\n",
    "Por último, dividiremos la fecha en año y mes."
   ]
  },
  {
   "cell_type": "markdown",
   "metadata": {
    "id": "S7hzxmbX0q0-"
   },
   "source": [
    "### Corregir los datos"
   ]
  },
  {
   "cell_type": "markdown",
   "metadata": {
    "id": "YxWyAjD20q0-"
   },
   "source": [
    "Cambiaremos el tipo de dato de la fecha de llamada."
   ]
  },
  {
   "cell_type": "code",
   "execution_count": 14,
   "metadata": {
    "id": "S2r8xA4f0q0-"
   },
   "outputs": [
    {
     "name": "stdout",
     "output_type": "stream",
     "text": [
      "datetime64[ns]\n"
     ]
    }
   ],
   "source": [
    "df_calls[\"call_date\"] = pd.to_datetime(df_calls[\"call_date\"])\n",
    "\n",
    "# Imprimimos comprobación:\n",
    "print(df_calls[\"call_date\"].dtype)"
   ]
  },
  {
   "cell_type": "markdown",
   "metadata": {
    "id": "KrMgTrlG0q0_"
   },
   "source": [
    "### Enriquecer los datos"
   ]
  },
  {
   "cell_type": "markdown",
   "metadata": {
    "id": "a9MbmEvE0q0_"
   },
   "source": [
    "Crearemos una columna que almacene el número de la llamada."
   ]
  },
  {
   "cell_type": "code",
   "execution_count": 15,
   "metadata": {
    "id": "iZ1avpA_0q0_"
   },
   "outputs": [
    {
     "name": "stdout",
     "output_type": "stream",
     "text": [
      "         id  user_id  call_date  duration call_no  call_month  call_year\n",
      "0   1000_93     1000 2018-12-27      8.52      93          12       2018\n",
      "1  1000_145     1000 2018-12-27     13.66     145          12       2018\n",
      "2  1000_247     1000 2018-12-27     14.48     247          12       2018\n"
     ]
    }
   ],
   "source": [
    "call_no = []\n",
    "\n",
    "for i,row in df_calls.iterrows():\n",
    "    id_list = row[\"id\"].split(\"_\")\n",
    "    call_no.append(id_list[1])\n",
    "\n",
    "df_calls[\"call_no\"] = call_no\n",
    "\n",
    "df_calls[\"call_month\"] = df_calls[\"call_date\"].dt.month\n",
    "df_calls[\"call_year\"] = df_calls[\"call_date\"].dt.year\n",
    "\n",
    "# Imprimimos para validar:\n",
    "print(df_calls.head(3))"
   ]
  },
  {
   "cell_type": "markdown",
   "metadata": {
    "id": "mOUZSi180q0_"
   },
   "source": [
    "## Mensajes"
   ]
  },
  {
   "cell_type": "code",
   "execution_count": 16,
   "metadata": {
    "id": "R-bYJpdV0q1A"
   },
   "outputs": [
    {
     "name": "stdout",
     "output_type": "stream",
     "text": [
      "           count         mean         std     min     25%     50%     75%  \\\n",
      "user_id  76051.0  1245.972768  139.843635  1000.0  1123.0  1251.0  1362.0   \n",
      "\n",
      "            max  \n",
      "user_id  1497.0  \n"
     ]
    }
   ],
   "source": [
    "# Imprime la información general/resumida sobre el DataFrame de los mensajes\n",
    "print(df_messages.describe().T)"
   ]
  },
  {
   "cell_type": "code",
   "execution_count": 17,
   "metadata": {
    "id": "mCEl2iGE0q1A"
   },
   "outputs": [
    {
     "name": "stdout",
     "output_type": "stream",
     "text": [
      "             id  user_id message_date\n",
      "68624  1444_107     1444   2018-08-16\n",
      "48222  1324_954     1324   2018-06-21\n",
      "57732  1363_124     1363   2018-12-21\n",
      "75854   1494_92     1494   2018-08-28\n",
      "1204   1011_167     1011   2018-09-26\n"
     ]
    }
   ],
   "source": [
    "# Imprime una muestra de datos para los mensajes\n",
    "print(df_messages.sample(5))"
   ]
  },
  {
   "cell_type": "markdown",
   "metadata": {
    "id": "04xDj7KH0q1A"
   },
   "source": [
    "#### Observaciones:\n",
    "Puesto que, igual que en las demás tablas no hay registros duplicados ni ausentes (salvo por df_users), solo quedará cambiar el tipo de dato de la fecha del mensaje a un tipo datetime; así mismo, se realizará un procedimiento similar al aplicado para las llamadas almacenando el número de mensaje obtenido a partir del id.\n",
    "\n",
    "Por último, dividiremos la fecha en año y mes."
   ]
  },
  {
   "cell_type": "markdown",
   "metadata": {
    "id": "Sprfak900q1B"
   },
   "source": [
    "### Corregir los datos"
   ]
  },
  {
   "cell_type": "markdown",
   "metadata": {
    "id": "eGw7d9j10q1B"
   },
   "source": [
    "Cambiaremos el tipo de dato de la fecha del mensaje."
   ]
  },
  {
   "cell_type": "code",
   "execution_count": 18,
   "metadata": {
    "id": "vsllvkoa0q1B"
   },
   "outputs": [
    {
     "name": "stdout",
     "output_type": "stream",
     "text": [
      "datetime64[ns]\n"
     ]
    }
   ],
   "source": [
    "df_messages[\"message_date\"] = pd.to_datetime(df_messages[\"message_date\"])\n",
    "\n",
    "# Imprimimos para validar:\n",
    "print(df_messages[\"message_date\"].dtype)"
   ]
  },
  {
   "cell_type": "markdown",
   "metadata": {
    "id": "HvLid7iD0q1B"
   },
   "source": [
    "### Enriquecer los datos"
   ]
  },
  {
   "cell_type": "markdown",
   "metadata": {
    "id": "8nhPFKIe0q1C"
   },
   "source": [
    "Se dividirá el id del mensaje de forma semejante a como se hizo con las llamadas.\n",
    "\n",
    "Nota: Debido al largo tiempo que estaba llevando realizar la operación dentro de un for-loop (similar a lo que se hizo con el cambio de city a dos nuevas columnas en users), se decidió crear una lista con los números de llamadas. Se estima esto se debe al volumen de información de dicho df, por lo mismo, se aplicará ese mismo procedimiento con los mensajes."
   ]
  },
  {
   "cell_type": "code",
   "execution_count": 19,
   "metadata": {
    "id": "zYEXZac10q1C"
   },
   "outputs": [
    {
     "name": "stdout",
     "output_type": "stream",
     "text": [
      "         id  user_id message_date mss_no  mss_month  mss_year\n",
      "0  1000_125     1000   2018-12-27    125         12      2018\n",
      "1  1000_160     1000   2018-12-31    160         12      2018\n",
      "2  1000_223     1000   2018-12-31    223         12      2018\n"
     ]
    }
   ],
   "source": [
    "mss_no = []\n",
    "\n",
    "for i,row in df_messages.iterrows():\n",
    "    id_list = row[\"id\"].split(\"_\")\n",
    "    mss_no.append(id_list[1])\n",
    "\n",
    "df_messages[\"mss_no\"] = mss_no\n",
    "\n",
    "df_messages[\"mss_month\"] = df_messages[\"message_date\"].dt.month\n",
    "df_messages[\"mss_year\"] = df_messages[\"message_date\"].dt.year\n",
    "\n",
    "# Imprimimos para validar:\n",
    "print(df_messages.head(3))"
   ]
  },
  {
   "cell_type": "markdown",
   "metadata": {
    "id": "bStkaxn40q1C"
   },
   "source": [
    "## Internet"
   ]
  },
  {
   "cell_type": "code",
   "execution_count": 20,
   "metadata": {
    "id": "e-Uz5qyn0q1C"
   },
   "outputs": [
    {
     "name": "stdout",
     "output_type": "stream",
     "text": [
      "            count         mean         std     min      25%      50%      75%  \\\n",
      "user_id  104825.0  1242.496361  142.053913  1000.0  1122.00  1236.00  1367.00   \n",
      "mb_used  104825.0   366.713701  277.170542     0.0   136.08   343.98   554.61   \n",
      "\n",
      "             max  \n",
      "user_id  1499.00  \n",
      "mb_used  1693.47  \n"
     ]
    }
   ],
   "source": [
    "# Imprime la información general/resumida sobre el DataFrame de internet\n",
    "print(df_internet.describe().T)"
   ]
  },
  {
   "cell_type": "code",
   "execution_count": 21,
   "metadata": {
    "id": "9r3x_XLw0q1C"
   },
   "outputs": [
    {
     "name": "stdout",
     "output_type": "stream",
     "text": [
      "             id  user_id session_date  mb_used\n",
      "11823  1057_163     1057   2018-12-05   473.12\n",
      "45321  1201_183     1201   2018-07-07   420.88\n",
      "36818  1165_333     1165   2018-10-30   302.58\n",
      "92893  1434_122     1434   2018-04-22   578.25\n",
      "26801  1123_296     1123   2018-12-07   485.40\n"
     ]
    }
   ],
   "source": [
    "# Imprime una muestra de datos para el tráfico de internet\n",
    "print(df_internet.sample(5))"
   ]
  },
  {
   "cell_type": "markdown",
   "metadata": {
    "id": "EzOG5ik30q1D"
   },
   "source": [
    "#### Observaciones:\n",
    "Siguiendo la línea que hemos marcado antes, cambiaremos la fecha de sesión (conexión) a un tipo de dato de fecha, obtendremos el número de sesión y convertiremos los Mb en Gb.\n",
    "\n",
    "Por último, dividiremos la fecha en año y mes."
   ]
  },
  {
   "cell_type": "markdown",
   "metadata": {
    "id": "yA0tkPFg0q1D"
   },
   "source": [
    "### Corregir los datos"
   ]
  },
  {
   "cell_type": "markdown",
   "metadata": {
    "id": "zlZMuIEK0q1D"
   },
   "source": [
    "Se cambiará el tipo de dato para la fecha de la sesión."
   ]
  },
  {
   "cell_type": "code",
   "execution_count": 22,
   "metadata": {
    "id": "zVeanzdd0q1E"
   },
   "outputs": [
    {
     "name": "stdout",
     "output_type": "stream",
     "text": [
      "datetime64[ns]\n"
     ]
    }
   ],
   "source": [
    "df_internet[\"session_date\"] =pd.to_datetime(df_internet[\"session_date\"])\n",
    "\n",
    "# Imprimimos validación:\n",
    "print(df_internet[\"session_date\"].dtype)"
   ]
  },
  {
   "cell_type": "markdown",
   "metadata": {
    "id": "e8_mLF4a0q1E"
   },
   "source": [
    "### Enriquecer los datos"
   ]
  },
  {
   "cell_type": "markdown",
   "metadata": {
    "id": "xhNdn2tE0q1E"
   },
   "source": [
    "Primero aplicamos el mismo método que con llamadas y mensajes para extraer el número de sesión, luego convertimos Mb a Gb."
   ]
  },
  {
   "cell_type": "code",
   "execution_count": 23,
   "metadata": {
    "id": "ESiYPIEK0q1E"
   },
   "outputs": [
    {
     "name": "stdout",
     "output_type": "stream",
     "text": [
      "         id  user_id session_date  mb_used ses_no   gb_used  ses_month  \\\n",
      "0   1000_13     1000   2018-12-29    89.86     13  0.087754         12   \n",
      "1  1000_204     1000   2018-12-31     0.00    204  0.000000         12   \n",
      "2  1000_379     1000   2018-12-28   660.40    379  0.644922         12   \n",
      "\n",
      "   ses_year  \n",
      "0      2018  \n",
      "1      2018  \n",
      "2      2018  \n"
     ]
    }
   ],
   "source": [
    "ses_no = []\n",
    "\n",
    "for i,row in df_internet.iterrows():\n",
    "    id_list = row[\"id\"].split(\"_\")\n",
    "    ses_no.append(id_list[1])\n",
    "\n",
    "df_internet[\"ses_no\"] = ses_no\n",
    "df_internet[\"gb_used\"] = df_internet[\"mb_used\"] / 1024\n",
    "\n",
    "df_internet[\"ses_month\"] = df_internet[\"session_date\"].dt.month\n",
    "df_internet[\"ses_year\"] = df_internet[\"session_date\"].dt.year\n",
    "\n",
    "# Imprimimos para validar:\n",
    "print(df_internet.head(3))"
   ]
  },
  {
   "cell_type": "markdown",
   "metadata": {
    "id": "3UA2cqIW0q1E"
   },
   "source": [
    "## Estudiar las condiciones de las tarifas"
   ]
  },
  {
   "cell_type": "markdown",
   "metadata": {
    "id": "T86Sqltq0q1F"
   },
   "source": [
    "Para visualizar las condiciones de los distintos planes/tarifas simplemente visualizamos el df de planes."
   ]
  },
  {
   "cell_type": "code",
   "execution_count": 24,
   "metadata": {
    "id": "i409op8p0q1F"
   },
   "outputs": [
    {
     "data": {
      "text/html": [
       "<div>\n",
       "<style scoped>\n",
       "    .dataframe tbody tr th:only-of-type {\n",
       "        vertical-align: middle;\n",
       "    }\n",
       "\n",
       "    .dataframe tbody tr th {\n",
       "        vertical-align: top;\n",
       "    }\n",
       "\n",
       "    .dataframe thead th {\n",
       "        text-align: right;\n",
       "    }\n",
       "</style>\n",
       "<table border=\"1\" class=\"dataframe\">\n",
       "  <thead>\n",
       "    <tr style=\"text-align: right;\">\n",
       "      <th></th>\n",
       "      <th>messages_included</th>\n",
       "      <th>mb_per_month_included</th>\n",
       "      <th>minutes_included</th>\n",
       "      <th>usd_monthly_pay</th>\n",
       "      <th>usd_per_gb</th>\n",
       "      <th>usd_per_message</th>\n",
       "      <th>usd_per_minute</th>\n",
       "      <th>plan_name</th>\n",
       "      <th>gb_per_month_included</th>\n",
       "    </tr>\n",
       "  </thead>\n",
       "  <tbody>\n",
       "    <tr>\n",
       "      <th>0</th>\n",
       "      <td>50</td>\n",
       "      <td>15360</td>\n",
       "      <td>500</td>\n",
       "      <td>20.0</td>\n",
       "      <td>10.0</td>\n",
       "      <td>0.03</td>\n",
       "      <td>0.03</td>\n",
       "      <td>surf</td>\n",
       "      <td>15.0</td>\n",
       "    </tr>\n",
       "    <tr>\n",
       "      <th>1</th>\n",
       "      <td>1000</td>\n",
       "      <td>30720</td>\n",
       "      <td>3000</td>\n",
       "      <td>70.0</td>\n",
       "      <td>7.0</td>\n",
       "      <td>0.01</td>\n",
       "      <td>0.01</td>\n",
       "      <td>ultimate</td>\n",
       "      <td>30.0</td>\n",
       "    </tr>\n",
       "  </tbody>\n",
       "</table>\n",
       "</div>"
      ],
      "text/plain": [
       "   messages_included  mb_per_month_included  minutes_included  \\\n",
       "0                 50                  15360               500   \n",
       "1               1000                  30720              3000   \n",
       "\n",
       "   usd_monthly_pay  usd_per_gb  usd_per_message  usd_per_minute plan_name  \\\n",
       "0             20.0        10.0             0.03            0.03      surf   \n",
       "1             70.0         7.0             0.01            0.01  ultimate   \n",
       "\n",
       "   gb_per_month_included  \n",
       "0                   15.0  \n",
       "1                   30.0  "
      ]
     },
     "execution_count": 24,
     "metadata": {},
     "output_type": "execute_result"
    }
   ],
   "source": [
    "# Imprime las condiciones de la tarifa y asegúrate de que te quedan claras\n",
    "df_plans"
   ]
  },
  {
   "cell_type": "markdown",
   "metadata": {
    "id": "hMR1tP5d0q1F"
   },
   "source": [
    "## Agregar datos por usuario\n",
    "\n",
    "[Ahora que los datos están limpios, agrega los datos por usuario y por periodo para que solo haya un registro por usuario y por periodo. Esto facilitará mucho el análisis posterior.]"
   ]
  },
  {
   "cell_type": "code",
   "execution_count": 25,
   "metadata": {
    "id": "A332cedB0q1G"
   },
   "outputs": [
    {
     "name": "stdout",
     "output_type": "stream",
     "text": [
      "user_id  call_month\n",
      "1000     12            16\n",
      "1001     8             27\n",
      "         9             49\n",
      "         10            65\n",
      "         11            64\n",
      "                       ..\n",
      "1498     12            39\n",
      "1499     9             41\n",
      "         10            53\n",
      "         11            45\n",
      "         12            65\n",
      "Name: call_no, Length: 2258, dtype: int64\n"
     ]
    }
   ],
   "source": [
    "# Calcula el número de llamadas hechas por cada usuario al mes. Guarda el resultado.\n",
    "df_calls_user = df_calls.groupby(['user_id','call_month'])['call_no'].count()\n",
    "print(df_calls_user)"
   ]
  },
  {
   "cell_type": "code",
   "execution_count": 26,
   "metadata": {
    "id": "aw2cmuql0q1G"
   },
   "outputs": [
    {
     "name": "stdout",
     "output_type": "stream",
     "text": [
      "user_id  call_month\n",
      "1000     12            116.83\n",
      "1001     8             171.14\n",
      "         9             297.69\n",
      "         10            374.11\n",
      "         11            404.59\n",
      "                        ...  \n",
      "1498     12            324.77\n",
      "1499     9             330.37\n",
      "         10            363.28\n",
      "         11            288.56\n",
      "         12            468.10\n",
      "Name: duration, Length: 2258, dtype: float64\n"
     ]
    }
   ],
   "source": [
    "# Calcula la cantidad de minutos usados por cada usuario al mes. Guarda el resultado.\n",
    "df_mins_user = df_calls.groupby(['user_id','call_month'])['duration'].sum()\n",
    "print(df_mins_user)"
   ]
  },
  {
   "cell_type": "code",
   "execution_count": 27,
   "metadata": {
    "id": "CcQvNHn60q1G"
   },
   "outputs": [
    {
     "name": "stdout",
     "output_type": "stream",
     "text": [
      "user_id  mss_month\n",
      "1000     12           11\n",
      "1001     8            30\n",
      "         9            44\n",
      "         10           53\n",
      "         11           36\n",
      "                      ..\n",
      "1496     9            21\n",
      "         10           18\n",
      "         11           13\n",
      "         12           11\n",
      "1497     12           50\n",
      "Name: mss_no, Length: 1806, dtype: int64\n"
     ]
    }
   ],
   "source": [
    "# Calcula el número de mensajes enviados por cada usuario al mes. Guarda el resultado.\n",
    "df_mss_user = df_messages.groupby(['user_id','mss_month'])['mss_no'].count()\n",
    "print(df_mss_user)"
   ]
  },
  {
   "cell_type": "code",
   "execution_count": 28,
   "metadata": {
    "id": "H1AqN2eG0q1H"
   },
   "outputs": [
    {
     "name": "stdout",
     "output_type": "stream",
     "text": [
      "user_id  ses_month\n",
      "1000     12            1.856904\n",
      "1001     8             6.756982\n",
      "         9            13.002754\n",
      "         10           21.807119\n",
      "         11           18.070605\n",
      "                        ...    \n",
      "1498     12           22.595400\n",
      "1499     9            12.680430\n",
      "         10           19.035576\n",
      "         11           16.419756\n",
      "         12           21.542197\n",
      "Name: gb_used, Length: 2277, dtype: float64\n"
     ]
    }
   ],
   "source": [
    "# Calcula el volumen del tráfico de Internet usado por cada usuario al mes. Guarda el resultado.\n",
    "df_internet_user = df_internet.groupby(['user_id','ses_month'])['gb_used'].sum()\n",
    "print(df_internet_user)"
   ]
  },
  {
   "cell_type": "markdown",
   "metadata": {
    "id": "VDfYXnj80q1H"
   },
   "source": [
    "Fusionaremos los resultados obtenidos en un dataframe único:"
   ]
  },
  {
   "cell_type": "code",
   "execution_count": 29,
   "metadata": {
    "id": "FW99ykyf0q1H"
   },
   "outputs": [
    {
     "data": {
      "text/html": [
       "<div>\n",
       "<style scoped>\n",
       "    .dataframe tbody tr th:only-of-type {\n",
       "        vertical-align: middle;\n",
       "    }\n",
       "\n",
       "    .dataframe tbody tr th {\n",
       "        vertical-align: top;\n",
       "    }\n",
       "\n",
       "    .dataframe thead th {\n",
       "        text-align: right;\n",
       "    }\n",
       "</style>\n",
       "<table border=\"1\" class=\"dataframe\">\n",
       "  <thead>\n",
       "    <tr style=\"text-align: right;\">\n",
       "      <th></th>\n",
       "      <th></th>\n",
       "      <th>call_no</th>\n",
       "      <th>duration</th>\n",
       "      <th>mss_no</th>\n",
       "      <th>gb_used</th>\n",
       "    </tr>\n",
       "    <tr>\n",
       "      <th>user_id</th>\n",
       "      <th></th>\n",
       "      <th></th>\n",
       "      <th></th>\n",
       "      <th></th>\n",
       "      <th></th>\n",
       "    </tr>\n",
       "  </thead>\n",
       "  <tbody>\n",
       "    <tr>\n",
       "      <th>1000</th>\n",
       "      <th>12</th>\n",
       "      <td>16.0</td>\n",
       "      <td>116.83</td>\n",
       "      <td>11.0</td>\n",
       "      <td>1.856904</td>\n",
       "    </tr>\n",
       "    <tr>\n",
       "      <th rowspan=\"4\" valign=\"top\">1001</th>\n",
       "      <th>8</th>\n",
       "      <td>27.0</td>\n",
       "      <td>171.14</td>\n",
       "      <td>30.0</td>\n",
       "      <td>6.756982</td>\n",
       "    </tr>\n",
       "    <tr>\n",
       "      <th>9</th>\n",
       "      <td>49.0</td>\n",
       "      <td>297.69</td>\n",
       "      <td>44.0</td>\n",
       "      <td>13.002754</td>\n",
       "    </tr>\n",
       "    <tr>\n",
       "      <th>10</th>\n",
       "      <td>65.0</td>\n",
       "      <td>374.11</td>\n",
       "      <td>53.0</td>\n",
       "      <td>21.807119</td>\n",
       "    </tr>\n",
       "    <tr>\n",
       "      <th>11</th>\n",
       "      <td>64.0</td>\n",
       "      <td>404.59</td>\n",
       "      <td>36.0</td>\n",
       "      <td>18.070605</td>\n",
       "    </tr>\n",
       "    <tr>\n",
       "      <th>...</th>\n",
       "      <th>...</th>\n",
       "      <td>...</td>\n",
       "      <td>...</td>\n",
       "      <td>...</td>\n",
       "      <td>...</td>\n",
       "    </tr>\n",
       "    <tr>\n",
       "      <th>1498</th>\n",
       "      <th>12</th>\n",
       "      <td>39.0</td>\n",
       "      <td>324.77</td>\n",
       "      <td>0.0</td>\n",
       "      <td>22.595400</td>\n",
       "    </tr>\n",
       "    <tr>\n",
       "      <th rowspan=\"4\" valign=\"top\">1499</th>\n",
       "      <th>9</th>\n",
       "      <td>41.0</td>\n",
       "      <td>330.37</td>\n",
       "      <td>0.0</td>\n",
       "      <td>12.680430</td>\n",
       "    </tr>\n",
       "    <tr>\n",
       "      <th>10</th>\n",
       "      <td>53.0</td>\n",
       "      <td>363.28</td>\n",
       "      <td>0.0</td>\n",
       "      <td>19.035576</td>\n",
       "    </tr>\n",
       "    <tr>\n",
       "      <th>11</th>\n",
       "      <td>45.0</td>\n",
       "      <td>288.56</td>\n",
       "      <td>0.0</td>\n",
       "      <td>16.419756</td>\n",
       "    </tr>\n",
       "    <tr>\n",
       "      <th>12</th>\n",
       "      <td>65.0</td>\n",
       "      <td>468.10</td>\n",
       "      <td>0.0</td>\n",
       "      <td>21.542197</td>\n",
       "    </tr>\n",
       "  </tbody>\n",
       "</table>\n",
       "<p>2293 rows × 4 columns</p>\n",
       "</div>"
      ],
      "text/plain": [
       "            call_no  duration  mss_no    gb_used\n",
       "user_id                                         \n",
       "1000    12     16.0    116.83    11.0   1.856904\n",
       "1001    8      27.0    171.14    30.0   6.756982\n",
       "        9      49.0    297.69    44.0  13.002754\n",
       "        10     65.0    374.11    53.0  21.807119\n",
       "        11     64.0    404.59    36.0  18.070605\n",
       "...             ...       ...     ...        ...\n",
       "1498    12     39.0    324.77     0.0  22.595400\n",
       "1499    9      41.0    330.37     0.0  12.680430\n",
       "        10     53.0    363.28     0.0  19.035576\n",
       "        11     45.0    288.56     0.0  16.419756\n",
       "        12     65.0    468.10     0.0  21.542197\n",
       "\n",
       "[2293 rows x 4 columns]"
      ]
     },
     "execution_count": 29,
     "metadata": {},
     "output_type": "execute_result"
    }
   ],
   "source": [
    "# Fusiona los datos de llamadas, minutos, mensajes e Internet con base en user_id y month\n",
    "df_user_sum = pd.concat([df_calls_user,df_mins_user,df_mss_user,df_internet_user],axis='columns')\n",
    "\n",
    "# Puesto que algunos usuarios no han utilizado algunas de las prestaciones de sus planes, indicamos como 0 su consumo.\n",
    "df_user_sum.fillna(0,inplace=True)\n",
    "\n",
    "df_user_sum"
   ]
  },
  {
   "cell_type": "code",
   "execution_count": 30,
   "metadata": {
    "id": "0dNOXHag0q1H"
   },
   "outputs": [
    {
     "data": {
      "text/html": [
       "<div>\n",
       "<style scoped>\n",
       "    .dataframe tbody tr th:only-of-type {\n",
       "        vertical-align: middle;\n",
       "    }\n",
       "\n",
       "    .dataframe tbody tr th {\n",
       "        vertical-align: top;\n",
       "    }\n",
       "\n",
       "    .dataframe thead th {\n",
       "        text-align: right;\n",
       "    }\n",
       "</style>\n",
       "<table border=\"1\" class=\"dataframe\">\n",
       "  <thead>\n",
       "    <tr style=\"text-align: right;\">\n",
       "      <th></th>\n",
       "      <th>user_id</th>\n",
       "      <th>month_no</th>\n",
       "      <th>no_calls</th>\n",
       "      <th>total_dur</th>\n",
       "      <th>total_mss</th>\n",
       "      <th>gb_used</th>\n",
       "      <th>plan</th>\n",
       "    </tr>\n",
       "  </thead>\n",
       "  <tbody>\n",
       "    <tr>\n",
       "      <th>0</th>\n",
       "      <td>1000</td>\n",
       "      <td>12</td>\n",
       "      <td>16.0</td>\n",
       "      <td>116.83</td>\n",
       "      <td>11.0</td>\n",
       "      <td>1.856904</td>\n",
       "      <td>ultimate</td>\n",
       "    </tr>\n",
       "    <tr>\n",
       "      <th>1</th>\n",
       "      <td>1001</td>\n",
       "      <td>8</td>\n",
       "      <td>27.0</td>\n",
       "      <td>171.14</td>\n",
       "      <td>30.0</td>\n",
       "      <td>6.756982</td>\n",
       "      <td>surf</td>\n",
       "    </tr>\n",
       "    <tr>\n",
       "      <th>2</th>\n",
       "      <td>1001</td>\n",
       "      <td>9</td>\n",
       "      <td>49.0</td>\n",
       "      <td>297.69</td>\n",
       "      <td>44.0</td>\n",
       "      <td>13.002754</td>\n",
       "      <td>surf</td>\n",
       "    </tr>\n",
       "    <tr>\n",
       "      <th>3</th>\n",
       "      <td>1001</td>\n",
       "      <td>10</td>\n",
       "      <td>65.0</td>\n",
       "      <td>374.11</td>\n",
       "      <td>53.0</td>\n",
       "      <td>21.807119</td>\n",
       "      <td>surf</td>\n",
       "    </tr>\n",
       "    <tr>\n",
       "      <th>4</th>\n",
       "      <td>1001</td>\n",
       "      <td>11</td>\n",
       "      <td>64.0</td>\n",
       "      <td>404.59</td>\n",
       "      <td>36.0</td>\n",
       "      <td>18.070605</td>\n",
       "      <td>surf</td>\n",
       "    </tr>\n",
       "    <tr>\n",
       "      <th>...</th>\n",
       "      <td>...</td>\n",
       "      <td>...</td>\n",
       "      <td>...</td>\n",
       "      <td>...</td>\n",
       "      <td>...</td>\n",
       "      <td>...</td>\n",
       "      <td>...</td>\n",
       "    </tr>\n",
       "    <tr>\n",
       "      <th>2288</th>\n",
       "      <td>1498</td>\n",
       "      <td>12</td>\n",
       "      <td>39.0</td>\n",
       "      <td>324.77</td>\n",
       "      <td>0.0</td>\n",
       "      <td>22.595400</td>\n",
       "      <td>surf</td>\n",
       "    </tr>\n",
       "    <tr>\n",
       "      <th>2289</th>\n",
       "      <td>1499</td>\n",
       "      <td>9</td>\n",
       "      <td>41.0</td>\n",
       "      <td>330.37</td>\n",
       "      <td>0.0</td>\n",
       "      <td>12.680430</td>\n",
       "      <td>surf</td>\n",
       "    </tr>\n",
       "    <tr>\n",
       "      <th>2290</th>\n",
       "      <td>1499</td>\n",
       "      <td>10</td>\n",
       "      <td>53.0</td>\n",
       "      <td>363.28</td>\n",
       "      <td>0.0</td>\n",
       "      <td>19.035576</td>\n",
       "      <td>surf</td>\n",
       "    </tr>\n",
       "    <tr>\n",
       "      <th>2291</th>\n",
       "      <td>1499</td>\n",
       "      <td>11</td>\n",
       "      <td>45.0</td>\n",
       "      <td>288.56</td>\n",
       "      <td>0.0</td>\n",
       "      <td>16.419756</td>\n",
       "      <td>surf</td>\n",
       "    </tr>\n",
       "    <tr>\n",
       "      <th>2292</th>\n",
       "      <td>1499</td>\n",
       "      <td>12</td>\n",
       "      <td>65.0</td>\n",
       "      <td>468.10</td>\n",
       "      <td>0.0</td>\n",
       "      <td>21.542197</td>\n",
       "      <td>surf</td>\n",
       "    </tr>\n",
       "  </tbody>\n",
       "</table>\n",
       "<p>2293 rows × 7 columns</p>\n",
       "</div>"
      ],
      "text/plain": [
       "      user_id  month_no  no_calls  total_dur  total_mss    gb_used      plan\n",
       "0        1000        12      16.0     116.83       11.0   1.856904  ultimate\n",
       "1        1001         8      27.0     171.14       30.0   6.756982      surf\n",
       "2        1001         9      49.0     297.69       44.0  13.002754      surf\n",
       "3        1001        10      65.0     374.11       53.0  21.807119      surf\n",
       "4        1001        11      64.0     404.59       36.0  18.070605      surf\n",
       "...       ...       ...       ...        ...        ...        ...       ...\n",
       "2288     1498        12      39.0     324.77        0.0  22.595400      surf\n",
       "2289     1499         9      41.0     330.37        0.0  12.680430      surf\n",
       "2290     1499        10      53.0     363.28        0.0  19.035576      surf\n",
       "2291     1499        11      45.0     288.56        0.0  16.419756      surf\n",
       "2292     1499        12      65.0     468.10        0.0  21.542197      surf\n",
       "\n",
       "[2293 rows x 7 columns]"
      ]
     },
     "execution_count": 30,
     "metadata": {},
     "output_type": "execute_result"
    }
   ],
   "source": [
    "# Añade la información de la tarifa\n",
    "df_user_sum_2 = df_user_sum.reset_index()\n",
    "new_columns = {'user_id':'user_id','level_1':'month_no','call_no':'no_calls','duration':'total_dur',\n",
    "               'mss_no':'total_mss','gb_used':'gb_used'}\n",
    "df_user_sum_2.rename(new_columns,inplace=True,axis=1)\n",
    "\n",
    "df_user_sum_2 = df_user_sum_2.merge(df_users[['user_id','plan']])\n",
    "\n",
    "df_user_sum_2"
   ]
  },
  {
   "cell_type": "markdown",
   "metadata": {
    "id": "1IwGo4wg0q1I"
   },
   "source": [
    "[Calcula los ingresos mensuales por usuario (resta el límite del paquete gratuito del número total de llamadas, mensajes de texto y datos; multiplica el resultado por el valor del plan de llamadas; añade la tarifa mensual en función del plan de llamadas). Nota: Dadas las condiciones del plan, ¡esto podría no ser tan trivial como un par de líneas! Así que no pasa nada si dedicas algo de tiempo a ello.]"
   ]
  },
  {
   "cell_type": "code",
   "execution_count": 31,
   "metadata": {
    "id": "5FGCf_c60q1I"
   },
   "outputs": [
    {
     "data": {
      "text/html": [
       "<div>\n",
       "<style scoped>\n",
       "    .dataframe tbody tr th:only-of-type {\n",
       "        vertical-align: middle;\n",
       "    }\n",
       "\n",
       "    .dataframe tbody tr th {\n",
       "        vertical-align: top;\n",
       "    }\n",
       "\n",
       "    .dataframe thead th {\n",
       "        text-align: right;\n",
       "    }\n",
       "</style>\n",
       "<table border=\"1\" class=\"dataframe\">\n",
       "  <thead>\n",
       "    <tr style=\"text-align: right;\">\n",
       "      <th></th>\n",
       "      <th>user_id</th>\n",
       "      <th>month_no</th>\n",
       "      <th>no_calls</th>\n",
       "      <th>total_dur</th>\n",
       "      <th>total_mss</th>\n",
       "      <th>gb_used</th>\n",
       "      <th>plan</th>\n",
       "      <th>Importe_Mes</th>\n",
       "    </tr>\n",
       "  </thead>\n",
       "  <tbody>\n",
       "    <tr>\n",
       "      <th>1030</th>\n",
       "      <td>1214</td>\n",
       "      <td>12</td>\n",
       "      <td>59.0</td>\n",
       "      <td>359.76</td>\n",
       "      <td>22.0</td>\n",
       "      <td>15.859297</td>\n",
       "      <td>ultimate</td>\n",
       "      <td>70.000000</td>\n",
       "    </tr>\n",
       "    <tr>\n",
       "      <th>1177</th>\n",
       "      <td>1251</td>\n",
       "      <td>4</td>\n",
       "      <td>63.0</td>\n",
       "      <td>463.85</td>\n",
       "      <td>33.0</td>\n",
       "      <td>22.072227</td>\n",
       "      <td>surf</td>\n",
       "      <td>90.722266</td>\n",
       "    </tr>\n",
       "    <tr>\n",
       "      <th>1971</th>\n",
       "      <td>1420</td>\n",
       "      <td>11</td>\n",
       "      <td>37.0</td>\n",
       "      <td>277.62</td>\n",
       "      <td>2.0</td>\n",
       "      <td>16.985127</td>\n",
       "      <td>ultimate</td>\n",
       "      <td>70.000000</td>\n",
       "    </tr>\n",
       "    <tr>\n",
       "      <th>1384</th>\n",
       "      <td>1299</td>\n",
       "      <td>6</td>\n",
       "      <td>60.0</td>\n",
       "      <td>293.65</td>\n",
       "      <td>6.0</td>\n",
       "      <td>18.131338</td>\n",
       "      <td>surf</td>\n",
       "      <td>51.313379</td>\n",
       "    </tr>\n",
       "    <tr>\n",
       "      <th>218</th>\n",
       "      <td>1053</td>\n",
       "      <td>7</td>\n",
       "      <td>3.0</td>\n",
       "      <td>16.06</td>\n",
       "      <td>0.0</td>\n",
       "      <td>0.835518</td>\n",
       "      <td>surf</td>\n",
       "      <td>20.000000</td>\n",
       "    </tr>\n",
       "  </tbody>\n",
       "</table>\n",
       "</div>"
      ],
      "text/plain": [
       "      user_id  month_no  no_calls  total_dur  total_mss    gb_used      plan  \\\n",
       "1030     1214        12      59.0     359.76       22.0  15.859297  ultimate   \n",
       "1177     1251         4      63.0     463.85       33.0  22.072227      surf   \n",
       "1971     1420        11      37.0     277.62        2.0  16.985127  ultimate   \n",
       "1384     1299         6      60.0     293.65        6.0  18.131338      surf   \n",
       "218      1053         7       3.0      16.06        0.0   0.835518      surf   \n",
       "\n",
       "      Importe_Mes  \n",
       "1030    70.000000  \n",
       "1177    90.722266  \n",
       "1971    70.000000  \n",
       "1384    51.313379  \n",
       "218     20.000000  "
      ]
     },
     "execution_count": 31,
     "metadata": {},
     "output_type": "execute_result"
    }
   ],
   "source": [
    "# Ciclamos para calcular:\n",
    "for i,row in df_user_sum_2.iterrows():\n",
    "    plan = row['plan']\n",
    "    # Costo base del plan:\n",
    "    costo_base = df_plans['usd_monthly_pay'][df_plans['plan_name']==plan].sum()\n",
    "    # Minutos extra:\n",
    "    mins_inc = df_plans['minutes_included'][df_plans['plan_name']==plan].sum()\n",
    "    min_ad = df_plans['usd_per_minute'][df_plans['plan_name']==plan].sum()\n",
    "    if row['total_dur'] > mins_inc:\n",
    "        extra_mins = (row['total_dur'] - mins_inc) * min_ad\n",
    "    else:\n",
    "        extra_mins = 0\n",
    "    # Mensajes extra:\n",
    "    mss_inc = df_plans['messages_included'][df_plans['plan_name']==plan].sum()\n",
    "    mss_ad = df_plans['usd_per_message'][df_plans['plan_name']==plan].sum()\n",
    "    if row['total_mss'] > mss_inc:\n",
    "        extra_mins = (row['total_mss'] - mss_inc) * mss_ad\n",
    "    else:\n",
    "        extra_mss = 0\n",
    "    # Gb extra:\n",
    "    gb_inc = df_plans['gb_per_month_included'][df_plans['plan_name']==plan].sum()\n",
    "    gb_ad = df_plans['usd_per_gb'][df_plans['plan_name']==plan].sum()\n",
    "    if row['gb_used'] >gb_inc:\n",
    "        extra_mins = (row['gb_used'] - gb_inc) * gb_ad\n",
    "    else:\n",
    "        extra_gb = 0\n",
    "    # Cargo total:\n",
    "    cargo_tot = costo_base + extra_mins + extra_mss + extra_gb\n",
    "    df_user_sum_2.loc[i,'Importe_Mes'] = cargo_tot\n",
    "\n",
    "# Imprimimos para validar:\n",
    "df_user_sum_2.sample(5)"
   ]
  },
  {
   "cell_type": "code",
   "execution_count": 32,
   "metadata": {},
   "outputs": [
    {
     "name": "stdout",
     "output_type": "stream",
     "text": [
      "user_id\n",
      "1000     70.000000\n",
      "1001    237.929395\n",
      "1002     98.916797\n",
      "1003    134.102930\n",
      "1004    580.937207\n",
      "           ...    \n",
      "1495    445.732031\n",
      "1496    120.588477\n",
      "1497     70.000000\n",
      "1498    797.323730\n",
      "1499    199.975293\n",
      "Name: Importe_Mes, Length: 490, dtype: float64\n"
     ]
    }
   ],
   "source": [
    "# Agrupamos por usuario para obtener el total que se le ha cobrado a cada uno:\n",
    "df_user_tot = df_user_sum_2.groupby('user_id')['Importe_Mes'].sum()\n",
    "\n",
    "print(df_user_tot)"
   ]
  },
  {
   "cell_type": "markdown",
   "metadata": {
    "id": "-jtyHzJb0q1I"
   },
   "source": [
    "## Estudia el comportamiento de usuario"
   ]
  },
  {
   "cell_type": "markdown",
   "metadata": {
    "id": "AxU3Y0N70q1J"
   },
   "source": [
    "[Calcula algunas estadísticas descriptivas para los datos agregados y fusionados que nos sean útiles y que muestren un panorama general captado por los datos. Dibuja gráficos útiles para facilitar la comprensión. Dado que la tarea principal es comparar las tarifas y decidir cuál es más rentable, las estadísticas y gráficas deben calcularse por tarifa.]\n",
    "\n",
    "[En los comentarios hallarás pistas relevantes para las llamadas, pero no las hay para los mensajes e Internet. Sin embargo, el principio del estudio estadístico que se aplica para ellos es el mismo que para las llamadas.]"
   ]
  },
  {
   "cell_type": "markdown",
   "metadata": {
    "id": "vtW4CJEe0q1J"
   },
   "source": [
    "### Llamadas"
   ]
  },
  {
   "cell_type": "code",
   "execution_count": 33,
   "metadata": {
    "id": "Jf5v5--k0q1J"
   },
   "outputs": [
    {
     "name": "stdout",
     "output_type": "stream",
     "text": [
      "plan            surf  ultimate\n",
      "call_month                    \n",
      "1           6.428000  6.541518\n",
      "2           6.906175  6.517230\n",
      "3           6.696919  6.210906\n",
      "4           6.799918  6.659990\n",
      "5           6.769200  6.662443\n",
      "6           6.846812  6.705188\n",
      "7           6.721710  6.879085\n",
      "8           6.726164  6.613484\n",
      "9           6.728684  6.770040\n",
      "10          6.722302  6.665850\n",
      "11          6.759115  6.742506\n",
      "12          6.836607  6.671929\n"
     ]
    },
    {
     "data": {
      "image/png": "[encoded data removed]",
      "text/plain": [
       "<Figure size 640x480 with 1 Axes>"
      ]
     },
     "metadata": {},
     "output_type": "display_data"
    }
   ],
   "source": [
    "# Compara la duración promedio de llamadas por cada plan y por cada mes. Traza un gráfico de barras para visualizarla.\n",
    "df_calls_plan = df_calls.merge(df_users[['user_id','plan']],left_on='user_id',right_on='user_id',how='left')\n",
    "df_calls_gp = df_calls_plan.groupby(['plan','call_month'])['duration'].mean()\n",
    "df_calls_piv = df_calls_plan.pivot_table(index='call_month',columns='plan',values='duration',aggfunc='mean')\n",
    "\n",
    "# Imprimimos para validar:\n",
    "print(df_calls_piv)\n",
    "\n",
    "# Realizamos el gráfico:\n",
    "df_calls_piv.plot(kind='bar',\n",
    "                 title='Duración promedio de llamadas por plan y por mes.',\n",
    "                 xlabel= 'Mes (número)',ylabel='Duración promedio (minutos)',\n",
    "                 rot=0,\n",
    "                 ylim=[6,7])\n",
    "plt.legend(['surf','ultimate'])\n",
    "\n",
    "plt.show()"
   ]
  },
  {
   "cell_type": "code",
   "execution_count": 34,
   "metadata": {
    "id": "QoLqW1S_0q1J",
    "scrolled": true
   },
   "outputs": [
    {
     "name": "stdout",
     "output_type": "stream",
     "text": [
      "plan              surf    ultimate\n",
      "call_month                        \n",
      "1           192.840000  183.162500\n",
      "2           280.851111  443.171667\n",
      "3           310.970000  285.701667\n",
      "4           332.380000  316.508095\n",
      "5           387.108000  383.664828\n",
      "6           411.450625  365.358222\n",
      "7           428.060917  403.767288\n",
      "8           394.474717  397.274789\n",
      "9           397.133298  413.287326\n",
      "10          414.435733  429.217238\n",
      "11          408.255415  423.814683\n",
      "12          457.547074  438.824832\n"
     ]
    },
    {
     "data": {
      "image/png": "[encoded data removed]",
      "text/plain": [
       "<Figure size 640x480 with 1 Axes>"
      ]
     },
     "metadata": {},
     "output_type": "display_data"
    }
   ],
   "source": [
    "# Compara el número de minutos mensuales que necesitan los usuarios de cada plan. Traza un histograma.\n",
    "df_calls_piv_2 = df_calls_plan.pivot_table(index='call_month',columns='plan',values='duration',aggfunc='sum')\n",
    "df_calls_users = df_calls_plan.pivot_table(index='call_month',columns='plan',values='user_id',aggfunc=lambda x: len(x.unique()))\n",
    "df_mins_per_user = df_calls_piv_2 / df_calls_users\n",
    "\n",
    "# Imprimimos para validar:\n",
    "print(df_mins_per_user)\n",
    "\n",
    "# Construimos el histograma:\n",
    "df_mins_per_user.plot(kind='hist',\n",
    "                 title='Minutos de llamadas por plan y por mes.',\n",
    "                 xlabel= 'Mes (número)',ylabel='Duración total (minutos)',\n",
    "                 rot=0, bins=5, alpha = 0.5)\n",
    "plt.legend(['surf','ultimate'])\n",
    "\n",
    "plt.show()"
   ]
  },
  {
   "cell_type": "markdown",
   "metadata": {
    "id": "bLS9T8OH0q1K"
   },
   "source": [
    "A continuación, calcularemos la media de la duración promedio de llamadas por mes y plan, así como la varianza de estos valores por plan / tarifa."
   ]
  },
  {
   "cell_type": "code",
   "execution_count": 35,
   "metadata": {
    "id": "oSndbAnt0q1K"
   },
   "outputs": [
    {
     "name": "stdout",
     "output_type": "stream",
     "text": [
      "Promedio del total de minutos de llamadas por usuario por mes y por tipo de plan: \n",
      " plan\n",
      "surf        367.958908\n",
      "ultimate    373.646094\n",
      "dtype: float64\n",
      "Varianza de la variable: \n",
      " plan\n",
      "surf        5636.603596\n",
      "ultimate    5925.107084\n",
      "dtype: float64\n"
     ]
    }
   ],
   "source": [
    "# Calcula la media y la varianza de la duración mensual de llamadas.\n",
    "print(\"Promedio del total de minutos de llamadas por usuario por mes y por tipo de plan: \\n\",df_mins_per_user.mean())\n",
    "print(\"Varianza de la variable: \\n\",df_mins_per_user.var())"
   ]
  },
  {
   "cell_type": "code",
   "execution_count": 36,
   "metadata": {
    "id": "nZzoRUKc0q1K"
   },
   "outputs": [
    {
     "data": {
      "image/png": "[encoded data removed]",
      "text/plain": [
       "<Figure size 640x480 with 1 Axes>"
      ]
     },
     "metadata": {},
     "output_type": "display_data"
    }
   ],
   "source": [
    "# Traza un diagrama de caja para visualizar la distribución de la duración mensual de llamadas\n",
    "df_mins_per_user.plot(kind='box',\n",
    "                 title = 'Distribución de valores para la duración media por llamada por mes y por tipo de plan.',\n",
    "                 ylabel='Duración de la llamada (minutos)')\n",
    "\n",
    "plt.show()"
   ]
  },
  {
   "cell_type": "markdown",
   "metadata": {
    "id": "r627zBO50q1K"
   },
   "source": [
    "Realizando un análisis sobre el comportamiento de la duración promedio de las llamadas por mes por parte de los usuarios, se puede observar que los usuarios del plan \"básico\", **SURF**, tienden a mantener llamadas poco más cortas que aquellos con plan **ULTIMATE**, sin embargo, sus promedios de minutos mensuales por usuario y por mes para ambos planes es muy similar, así como su distribución medida a través de la varianza."
   ]
  },
  {
   "cell_type": "markdown",
   "metadata": {
    "id": "8idKy8Wh0q1L"
   },
   "source": [
    "### Mensajes"
   ]
  },
  {
   "cell_type": "code",
   "execution_count": 37,
   "metadata": {
    "id": "NXLxiTit0q1L"
   },
   "outputs": [
    {
     "name": "stdout",
     "output_type": "stream",
     "text": [
      "plan            surf   ultimate\n",
      "mss_month                      \n",
      "1          21.000000  20.666667\n",
      "2          21.600000  25.166667\n",
      "3          21.937500  34.714286\n",
      "4          24.166667  28.937500\n",
      "5          33.017857  44.333333\n",
      "6          33.616438  36.289474\n",
      "7          35.945055  41.212766\n",
      "8          37.596774  47.929825\n",
      "9          39.523179  45.901408\n",
      "10         42.433862  46.977528\n",
      "11         40.553097  47.601942\n",
      "12         48.326772  53.936508\n"
     ]
    },
    {
     "data": {
      "image/png": "[encoded data removed]",
      "text/plain": [
       "<Figure size 640x480 with 1 Axes>"
      ]
     },
     "metadata": {},
     "output_type": "display_data"
    }
   ],
   "source": [
    "# Comprara el número de mensajes que tienden a enviar cada mes los usuarios de cada plan\n",
    "df_mss_plan = df_messages.merge(df_users[['user_id','plan']],left_on='user_id',right_on='user_id',how='left')\n",
    "df_mss_piv = df_mss_plan.pivot_table(index='mss_month',columns='plan',values='mss_no',aggfunc='count')\n",
    "\n",
    "df_mss_users = df_mss_plan.pivot_table(index='mss_month',columns='plan',values='user_id',aggfunc=lambda x: len(x.unique()))\n",
    "df_mss_per_user = df_mss_piv / df_mss_users\n",
    "\n",
    "# Imprimimos para validar:\n",
    "print(df_mss_per_user)\n",
    "\n",
    "# Realizamos el gráfico:\n",
    "df_mss_per_user.plot(kind='hist',\n",
    "                 title='Cantidad de mensajes por plan y por mes.',\n",
    "                 xlabel= 'Mes (número)',ylabel='Cantidad de mensajes',\n",
    "                 rot=0, alpha = 0.5)\n",
    "plt.legend(['surf','ultimate'])\n",
    "\n",
    "plt.show()"
   ]
  },
  {
   "cell_type": "code",
   "execution_count": 38,
   "metadata": {
    "id": "GRI_R7xF0q1L"
   },
   "outputs": [
    {
     "name": "stdout",
     "output_type": "stream",
     "text": [
      "Promedio de total de mensajes por usuario por mes y por tipo de plan: \n",
      " plan\n",
      "surf        33.309767\n",
      "ultimate    39.472325\n",
      "dtype: float64\n",
      "Varianza de la variable: \n",
      " plan\n",
      "surf         84.264368\n",
      "ultimate    106.655358\n",
      "dtype: float64\n"
     ]
    }
   ],
   "source": [
    "# Calcula la media y la varianza de los mensajes totales enviados por usuario por mes y plan:\n",
    "print(\"Promedio de total de mensajes por usuario por mes y por tipo de plan: \\n\",df_mss_per_user.mean())\n",
    "print(\"Varianza de la variable: \\n\",df_mss_per_user.var())"
   ]
  },
  {
   "cell_type": "code",
   "execution_count": 39,
   "metadata": {
    "id": "dtFwCGAp0q1M"
   },
   "outputs": [
    {
     "data": {
      "image/png": "[encoded data removed]",
      "text/plain": [
       "<Figure size 640x480 with 1 Axes>"
      ]
     },
     "metadata": {},
     "output_type": "display_data"
    }
   ],
   "source": [
    "# Traza un diagrama de caja para visualizar la distribución de la cantidad de mensajes enviados\n",
    "df_mss_per_user.plot(kind='box',\n",
    "                 title = 'Distribución de valores para cantidad de mensajes por usuario por mes y por tipo de plan.',\n",
    "                 ylabel='Cantidad promedio de mensajes mensuales')\n",
    "\n",
    "plt.show()"
   ]
  },
  {
   "cell_type": "markdown",
   "metadata": {
    "id": "390SSL480q1M"
   },
   "source": [
    "Vemos que la mayoría de usuarios del plan **ULTIMATE** consumen significativamente más mensajes mensuales que aquellos con el dentro del plan **SURF**."
   ]
  },
  {
   "cell_type": "markdown",
   "metadata": {
    "id": "42YSypXz0q1M"
   },
   "source": [
    "### Internet"
   ]
  },
  {
   "cell_type": "code",
   "execution_count": 40,
   "metadata": {
    "id": "lSuKPtjh0q1M"
   },
   "outputs": [
    {
     "name": "stdout",
     "output_type": "stream",
     "text": [
      "plan            surf   ultimate\n",
      "ses_month                      \n",
      "1           4.760605   6.755950\n",
      "2          11.893402  16.727352\n",
      "3          13.032656  17.892108\n",
      "4          11.942167  15.743803\n",
      "5          13.788797  16.234846\n",
      "6          15.257487  14.978439\n",
      "7          16.526820  15.961664\n",
      "8          16.711157  17.397188\n",
      "9          16.286521  16.572138\n",
      "10         17.122339  17.363566\n",
      "11         16.069871  16.634458\n",
      "12         17.763349  17.893742\n"
     ]
    },
    {
     "data": {
      "image/png": "[encoded data removed]",
      "text/plain": [
       "<Figure size 640x480 with 1 Axes>"
      ]
     },
     "metadata": {},
     "output_type": "display_data"
    }
   ],
   "source": [
    "# Compara la cantidad de tráfico de Internet consumido por usuarios por plan\n",
    "df_internet_plan = df_internet.merge(df_users[['user_id','plan']],left_on='user_id',right_on='user_id',how='left')\n",
    "df_internet_piv = df_internet_plan.pivot_table(index='ses_month',columns='plan',values='gb_used',aggfunc='sum')\n",
    "\n",
    "df_internet_users = df_internet_plan.pivot_table(index='ses_month',columns='plan',values='user_id',aggfunc=lambda x: len(x.unique()))\n",
    "df_internet_per_user = df_internet_piv / df_internet_users\n",
    "\n",
    "# Imprimimos para validar:\n",
    "print(df_internet_per_user)\n",
    "\n",
    "# Realizamos el gráfico:\n",
    "df_internet_per_user.plot(kind='hist',\n",
    "                 title='Cantidad de datos consumidos por usuario por plan y por mes en Gb.',\n",
    "                 xlabel= 'Mes (número)',ylabel='Cantidad datos (Gb)',\n",
    "                 rot=0, alpha = 0.5)\n",
    "plt.legend(['surf','ultimate'])\n",
    "\n",
    "plt.show()"
   ]
  },
  {
   "cell_type": "code",
   "execution_count": 41,
   "metadata": {
    "id": "wnh8jYXi0q1N"
   },
   "outputs": [
    {
     "name": "stdout",
     "output_type": "stream",
     "text": [
      "Promedio de total de datos (en Gb) por usuario por mes y por tipo de plan: \n",
      " plan\n",
      "surf        14.262931\n",
      "ultimate    15.846271\n",
      "dtype: float64\n",
      "Varianza de la variable: \n",
      " plan\n",
      "surf        12.993675\n",
      "ultimate     8.961038\n",
      "dtype: float64\n"
     ]
    }
   ],
   "source": [
    "# Calcula la media y la varianza de los gb totales usados por usuario por mes y plan:\n",
    "print(\"Promedio de total de datos (en Gb) por usuario por mes y por tipo de plan: \\n\",df_internet_per_user.mean())\n",
    "print(\"Varianza de la variable: \\n\",df_internet_per_user.var())"
   ]
  },
  {
   "cell_type": "code",
   "execution_count": 42,
   "metadata": {
    "id": "5VlyJ9ry0q1N"
   },
   "outputs": [
    {
     "data": {
      "image/png": "[encoded data removed]",
      "text/plain": [
       "<Figure size 640x480 with 1 Axes>"
      ]
     },
     "metadata": {},
     "output_type": "display_data"
    }
   ],
   "source": [
    "# Traza un diagrama de caja para visualizar la distribución de la cantidad de datos usados:\n",
    "df_internet_per_user.plot(kind='box',\n",
    "                 title = 'Distribución de valores para cantidad de datos (en Gb) por usuario por mes y por tipo de plan.',\n",
    "                 ylabel='Cantidad promedio de datos mensuales')\n",
    "\n",
    "plt.show()"
   ]
  },
  {
   "cell_type": "markdown",
   "metadata": {
    "id": "UN9zwuMP0q1N"
   },
   "source": [
    "En esta ocasión, el uso de datos promedio por usuario para ambos planes resulta estar distribuido de una forma más compacta que el caso de mensajes y llamadas, pero, al igual que con los mensajes, apreciamos un mayor consumo de datos en los usuarios con plan **ULTIMATE** frente a aquellos de **SURF**."
   ]
  },
  {
   "cell_type": "markdown",
   "metadata": {
    "id": "tCijq3260q1N"
   },
   "source": [
    "## Ingreso"
   ]
  },
  {
   "cell_type": "markdown",
   "metadata": {
    "id": "9nq5IAcy0q1O"
   },
   "source": [
    "[Del mismo modo que has estudiado el comportamiento de los usuarios, describe estadísticamente los ingresos de los planes.]"
   ]
  },
  {
   "cell_type": "code",
   "execution_count": 43,
   "metadata": {
    "id": "tz-dq_V00q1O"
   },
   "outputs": [
    {
     "name": "stdout",
     "output_type": "stream",
     "text": [
      "Promedio de gasto mensual por plan:\n",
      " plan\n",
      "surf        55.922364\n",
      "ultimate    72.116080\n",
      "Name: Importe_Mes, dtype: float64\n",
      "\n",
      "Total de ingresos por plan:\n",
      " plan\n",
      "surf        87965.878738\n",
      "ultimate    51923.577344\n",
      "Name: Importe_Mes, dtype: float64\n",
      "\n",
      "Total de usuarios por plan:\n",
      " month_no  1   2   3   4   5   6    7    8    9    10   11   12\n",
      "plan                                                          \n",
      "surf       2   9  23  50  77  97  121  162  194  237  283  318\n",
      "ultimate   4   7  12  21  29  47   59   71   86  106  127  151\n"
     ]
    }
   ],
   "source": [
    "df_ing_prom_plans = df_user_sum_2.groupby('plan')['Importe_Mes'].mean()\n",
    "print(\"Promedio de gasto mensual por plan:\\n\",df_ing_prom_plans)\n",
    "df_ing_tot_plans = df_user_sum_2.groupby('plan')['Importe_Mes'].sum()\n",
    "print(\"\\nTotal de ingresos por plan:\\n\",df_ing_tot_plans)\n",
    "df_ing_user_plans = df_user_sum_2.pivot_table(index='plan',columns='month_no',values='user_id',aggfunc=lambda x: len(x.unique()))\n",
    "print(\"\\nTotal de usuarios por plan:\\n\",df_ing_user_plans)"
   ]
  },
  {
   "cell_type": "code",
   "execution_count": 44,
   "metadata": {
    "id": "0Y1v8ZUz0q1P"
   },
   "outputs": [
    {
     "name": "stdout",
     "output_type": "stream",
     "text": [
      "plan              surf      ultimate\n",
      "month_no                            \n",
      "1            40.000000    280.000000\n",
      "2           288.965000    490.000000\n",
      "3           989.136133    880.709375\n",
      "4          1908.231658   1528.198916\n",
      "5          3414.117487   2044.955869\n",
      "6          4330.322370   3359.418057\n",
      "7          6964.052845   4239.174434\n",
      "8          9611.638725   5160.287275\n",
      "9         10477.639325   6175.858623\n",
      "10        14269.914148   7641.719053\n",
      "11        15212.648533   9093.352871\n",
      "12        20459.212515  11029.902871\n"
     ]
    },
    {
     "data": {
      "image/png": "[encoded data removed]",
      "text/plain": [
       "<Figure size 640x480 with 1 Axes>"
      ]
     },
     "metadata": {},
     "output_type": "display_data"
    }
   ],
   "source": [
    "# Realizamos un gráfico:\n",
    "df_planes_graf = df_user_sum_2.pivot_table(index='month_no',columns='plan',values='Importe_Mes',aggfunc='sum')\n",
    "\n",
    "print(df_planes_graf)\n",
    "df_planes_graf.plot(kind='bar',\n",
    "                 title='Ingresos mensuales por plan.',\n",
    "                 xlabel= 'Número de mes',ylabel='Ingresos totales',\n",
    "                  rot=0, alpha=0.5)\n",
    "plt.legend(['surf','ultimate'])\n",
    "\n",
    "plt.show()"
   ]
  },
  {
   "cell_type": "code",
   "execution_count": 45,
   "metadata": {
    "id": "bYmwxyVh0q1P"
   },
   "outputs": [
    {
     "name": "stdout",
     "output_type": "stream",
     "text": [
      "Promedio gastado por usuario y plan: \n",
      " plan           surf  ultimate\n",
      "user_id                      \n",
      "1000            NaN      70.0\n",
      "1001      47.585879       NaN\n",
      "1002      32.972266       NaN\n",
      "1003     134.102930       NaN\n",
      "1004      72.617151       NaN\n",
      "...             ...       ...\n",
      "1495     111.433008       NaN\n",
      "1496      24.117695       NaN\n",
      "1497            NaN      70.0\n",
      "1498      72.483975       NaN\n",
      "1499      49.993823       NaN\n",
      "\n",
      "[490 rows x 2 columns]\n"
     ]
    },
    {
     "data": {
      "image/png": "[encoded data removed]",
      "text/plain": [
       "<Figure size 640x480 with 1 Axes>"
      ]
     },
     "metadata": {},
     "output_type": "display_data"
    }
   ],
   "source": [
    "# Ahora comprobaremos la distribución de los gastos promedio por mes:\n",
    "df_planes_graf_2 = df_user_sum_2.pivot_table(index='user_id',columns='plan',values='Importe_Mes',aggfunc='mean')\n",
    "print(\"Promedio gastado por usuario y plan: \\n\",df_planes_graf_2)\n",
    "\n",
    "df_planes_graf_2.plot(kind='box',\n",
    "                 title = 'Distribución de valores para los ingresos mensuales por tipo de plan.',\n",
    "                 ylabel='Ingresos mensuales')\n",
    "\n",
    "plt.show()"
   ]
  },
  {
   "cell_type": "markdown",
   "metadata": {
    "id": "KAFidcXZ0q1P"
   },
   "source": [
    "En general, vemos que los usuarios del plan **ULTIMATE** tienen, en promedio, un mayor consumo individual, sin embargo, el plan **SURF** ha crecido mucho más rápido, duplicando, incluso, el número de usuarios respecto a **ULTIMATE** para diciembre, lo que, en total se convierte en mayores ingresos.\n",
    "\n",
    "Así mismo, al explorar el promedio de gasto de ambos planes y su gráfico de cajas y bigotes, es sencillo observar que los usuarios del plan **SURF** tienden a excederse sobre sus límites incluídos y, por ende, pagar más que su precio base, que, luego, se transforma también en mayores ingresos pues los precios que se manejan por minuto, mensaje y Gb extra son mucho más caros que los que se ofrecen para **ULTIMATE**."
   ]
  },
  {
   "cell_type": "markdown",
   "metadata": {
    "id": "ajJ7VKeI0q1Q"
   },
   "source": [
    "## Prueba las hipótesis estadísticas"
   ]
  },
  {
   "cell_type": "markdown",
   "metadata": {
    "id": "AdXAZ-yL0q1Q"
   },
   "source": [
    "Basándonos en los datos y gráficos anteriores, comprobaremos si los ingresos de cada plan pueden ser facilmente distinguibles entre ellos, para esto, aplicaremos una prueba de la librería scipy que nos permite evaluar las medias en base a la varianza de dos arrays de información."
   ]
  },
  {
   "cell_type": "markdown",
   "metadata": {
    "id": "IQwa_hsh0q1Q"
   },
   "source": [
    "Hipótesis nula: *Los ingresos por plan son inidentificables entre sí.*\n",
    "\n",
    "Hipótesis alternativa: *Al revisar el dato de un ingreso promedio, podemos saber a qué plan pertenece el usuario.*"
   ]
  },
  {
   "cell_type": "code",
   "execution_count": 46,
   "metadata": {
    "id": "nFoPNlPq0q1R"
   },
   "outputs": [
    {
     "name": "stdout",
     "output_type": "stream",
     "text": [
      "Valor p: 2.3751010613462978e-30\n",
      "Rechazamos la hipótesis nula. Los ingresos de los planes por usuario son diferentes.\n"
     ]
    }
   ],
   "source": [
    "# Separamos nuestro df de usuarios y planes por tipo de plan y nos quedamos solo con los ingresos:\n",
    "ing_surf = df_user_sum_2['Importe_Mes'][df_user_sum_2['plan']=='surf']\n",
    "ing_ultimate = df_user_sum_2['Importe_Mes'][df_user_sum_2['plan']=='ultimate']\n",
    "\n",
    "# Prueba las hipótesis\n",
    "alpha = 0.05\n",
    "prueba = st.ttest_ind(ing_surf,ing_ultimate,equal_var=False)\n",
    "\n",
    "print('Valor p:', prueba.pvalue)\n",
    "\n",
    "if (prueba.pvalue < alpha):\n",
    "    print(\"Rechazamos la hipótesis nula. Los ingresos de los planes por usuario son diferentes.\")\n",
    "else:\n",
    "    print(\"No podemos rechazar la hipótesis nula. No es sencillo distinguir a qué plan corresponderán los ingresos.\")"
   ]
  },
  {
   "cell_type": "markdown",
   "metadata": {
    "id": "tCcAruM60q1R"
   },
   "source": [
    "Por último, haremos una prueba para ver si los patrones de consumo son homogéneos entre todas las áreas o regiones de donde se tienen datos. Para esto, se ha elegido comparar a aquellos usuarios de la región NY-NJ (Nueva York y New Jersey) contra el resto de regiones."
   ]
  },
  {
   "cell_type": "markdown",
   "metadata": {
    "id": "LsBgitqj0q1R"
   },
   "source": [
    "Hipótesis nula: *Los consumos no variarán según la región.*\n",
    "\n",
    "Hipótesis alternativa: *Los consumos de los usuarios de la región NY-NJ serán distinguibles respecto a los de usuarios de otras regiones.*"
   ]
  },
  {
   "cell_type": "code",
   "execution_count": 62,
   "metadata": {
    "id": "Cqcj7wrZ0q1S"
   },
   "outputs": [
    {
     "name": "stdout",
     "output_type": "stream",
     "text": [
      "      user_id  month_no  no_calls  total_dur  total_mss    gb_used  plan  \\\n",
      "1386     1299         8      64.0     409.02       15.0  13.879717  surf   \n",
      "466      1099         6      61.0     400.28       11.0  14.078574  surf   \n",
      "664      1140         8      89.0     542.74       13.0  20.169697  surf   \n",
      "869      1181        12      75.0     487.02       31.0  17.111621  surf   \n",
      "598      1127         7      35.0     231.33       10.0  21.102314  surf   \n",
      "\n",
      "      Importe_Mes state_code  \n",
      "1386    20.000000   NY-NJ-PA  \n",
      "466     20.000000   NY-NJ-PA  \n",
      "664     71.696973   NY-NJ-PA  \n",
      "869     41.116211   NY-NJ-PA  \n",
      "598     81.023145   NY-NJ-PA  \n",
      "\n",
      "\n",
      "Promedio de ingresos para los planes de usuarios de la región NY-NJ: $56.23\n",
      "Promedio de ingresos para los planes de usuarios de las demás regiones: $61.95\n",
      "\n",
      "\n",
      "Valor p: 0.01673325154703305\n",
      "\n",
      "\n",
      "Rechazamos la hipótesis nula. Los ingresos de los planes en la región NY-NJ son diferentes a los de las demás regiones.\n"
     ]
    }
   ],
   "source": [
    "# Agregamos el codigo de estado (creado anteriormente a partir de la columna \"city\") al dataframe donde tenemos los usuarios\n",
    "# con sus planes y cuanto ingresan a dicho plan.\n",
    "df_user_sum_reg = df_user_sum_2.merge(df_users[['user_id','state_code']],how='left',left_on='user_id',right_on='user_id')\n",
    "\n",
    "# Haciendo una inspección, se identifica que todos los registros de usuarios de la zona NY-NJ también incluyen \"-PA\" dentro\n",
    "# de su código de estado:\n",
    "print(df_user_sum_reg[df_user_sum_reg['state_code'].str.contains('NY-NJ')].sample(5))\n",
    "\n",
    "# Se crean los arrays por regiones:\n",
    "ing_nynj = df_user_sum_reg['Importe_Mes'][df_user_sum_reg['state_code'].str.contains('NY-NJ')]\n",
    "ing_otros = df_user_sum_reg['Importe_Mes'][~df_user_sum_reg['state_code'].str.contains('NY-NJ')]\n",
    "\n",
    "print(\"\\n\")\n",
    "\n",
    "print(f\"Promedio de ingresos para los planes de usuarios de la región NY-NJ: ${ing_nynj.mean():.2f}\")\n",
    "print(f\"Promedio de ingresos para los planes de usuarios de las demás regiones: ${ing_otros.mean():.2f}\")\n",
    "\n",
    "# Prueba las hipótesis\n",
    "alpha = 0.05\n",
    "prueba = st.ttest_ind(ing_nynj,ing_otros,equal_var=False)\n",
    "print(\"\\n\")\n",
    "\n",
    "print('Valor p:', prueba.pvalue)\n",
    "\n",
    "print(\"\\n\")\n",
    "\n",
    "if (prueba.pvalue < alpha):\n",
    "    print(\"Rechazamos la hipótesis nula. Los ingresos de los planes en la región NY-NJ son diferentes a los de las demás regiones.\")\n",
    "else:\n",
    "    print(\"No podemos rechazar la hipótesis nula. No es sencillo distinguir a qué región corresponderán los ingresos.\")"
   ]
  },
  {
   "cell_type": "markdown",
   "metadata": {
    "id": "bbTR8UQO0q1T"
   },
   "source": [
    "## Conclusión general\n",
    "\n",
    "A lo largo de este proyecto, hemos explorado, interpretado, corregido y nutrido una base de datos proveniente de la compañía de telecomunicaciones Megaline. A través de las líneas de código anterior, hemos podido conocer un poco más acerca del como consumen los usuarios de los dos planes de telefonía (móvil) de Megaline: **SURF** y **ULTIMATE**.\n",
    "\n",
    "Hemos comprendido las diferencias fundamentales entre estos dos planes y los beneficios y desventajas que cada uno presenta:\n",
    "1) **ULTIMATE**: es un plan con un precio base más caro, pero incluye más prestaciones y el precio a pagar si se excede en un rubro es más indulgente.\n",
    "2) **SURF**: es el plan con precio base más barato, sin embargo, incluye menos prestaciones y el excederse en cualquier rubro conlleva precios más elevados por consumo.\n",
    "\n",
    "Al analizar los patrones de consumo para los usuarios de cada plan, hemos visto que estos no son tan diferentes, es decir, consumen de forma similar minutos de llamadas, mensajes y Gb de internet, sin embargo, comprobamos que esto se traduce en que los usuarios del plan **SURF** son mucho más suceptibles a excederse en su plan que los de **ULTIMATE**, ultimadamente resultando en que la distribución del ingreso por plan por usuario al mes está mucho más cerrada en el plan **ULTIMATE**; es decir, la gran mayoría de los usuarios se mantienen cercanos a la media que, además, resulta ser muy próxima al precio base.\n",
    "\n",
    "Por úlimo, se quiso verificar si los patrones de consumo pudieran depender de la zona geográfica de los usuarios, para esto, se probó comparando a los usuarios de la región de Nueva York - New Jersey (-Pennsylvania) con los del resto de las regiones y hemos podido confirmar que la región es un factor importante para determinar los patrones de consumo de los usuarios."
   ]
  }
 ],
 "metadata": {
  "ExecuteTimeLog": [
   {
    "duration": 828,
    "start_time": "2021-11-16T09:21:11.304Z"
   },
   {
    "duration": 893,
    "start_time": "2021-11-16T09:21:17.728Z"
   },
   {
    "duration": 1150,
    "start_time": "2021-11-16T09:21:29.568Z"
   },
   {
    "duration": 3,
    "start_time": "2021-11-16T09:24:14.495Z"
   },
   {
    "duration": 120,
    "start_time": "2021-11-16T09:24:46.630Z"
   },
   {
    "duration": 3,
    "start_time": "2021-11-16T09:28:27.882Z"
   },
   {
    "duration": 4,
    "start_time": "2021-11-16T09:29:54.281Z"
   },
   {
    "duration": 3,
    "start_time": "2021-11-16T09:30:45.936Z"
   },
   {
    "duration": 4,
    "start_time": "2021-11-16T09:31:06.300Z"
   },
   {
    "duration": 113,
    "start_time": "2021-11-16T09:31:37.208Z"
   },
   {
    "duration": 143,
    "start_time": "2021-11-16T09:31:48.656Z"
   },
   {
    "duration": 98,
    "start_time": "2021-11-16T09:31:55.678Z"
   },
   {
    "duration": 3,
    "start_time": "2021-11-16T09:32:08.535Z"
   },
   {
    "duration": 111,
    "start_time": "2021-11-16T09:32:10.120Z"
   },
   {
    "duration": 3,
    "start_time": "2021-11-16T09:32:15.732Z"
   },
   {
    "duration": 4,
    "start_time": "2021-11-16T09:32:29.423Z"
   },
   {
    "duration": 3,
    "start_time": "2021-11-16T10:03:03.074Z"
   },
   {
    "duration": 3,
    "start_time": "2021-11-16T10:10:01.288Z"
   },
   {
    "duration": 3,
    "start_time": "2021-11-16T10:10:46.923Z"
   },
   {
    "duration": 121,
    "start_time": "2021-11-16T10:37:46.494Z"
   },
   {
    "duration": 125,
    "start_time": "2021-11-16T10:38:20.632Z"
   },
   {
    "duration": 112,
    "start_time": "2021-11-16T10:46:53.001Z"
   },
   {
    "duration": 110,
    "start_time": "2021-11-16T10:48:25.775Z"
   },
   {
    "duration": 3,
    "start_time": "2021-11-16T10:50:18.720Z"
   },
   {
    "duration": 4,
    "start_time": "2021-11-16T10:50:37.649Z"
   },
   {
    "duration": 2,
    "start_time": "2021-11-16T10:50:51.884Z"
   },
   {
    "duration": 3,
    "start_time": "2021-11-16T10:51:56.237Z"
   },
   {
    "duration": 101,
    "start_time": "2021-11-16T10:53:13.791Z"
   },
   {
    "duration": 3,
    "start_time": "2021-11-16T10:55:59.186Z"
   },
   {
    "duration": 3,
    "start_time": "2021-11-16T10:56:10.751Z"
   },
   {
    "duration": 3,
    "start_time": "2021-11-16T10:56:49.038Z"
   },
   {
    "duration": 3,
    "start_time": "2021-11-16T10:56:49.174Z"
   },
   {
    "duration": 4,
    "start_time": "2021-11-16T10:56:49.414Z"
   },
   {
    "duration": 3,
    "start_time": "2021-11-16T10:56:49.680Z"
   },
   {
    "duration": 3,
    "start_time": "2021-11-16T10:56:50.370Z"
   },
   {
    "duration": 114,
    "start_time": "2021-11-16T10:59:34.518Z"
   },
   {
    "duration": 3,
    "start_time": "2021-11-16T11:01:41.201Z"
   },
   {
    "duration": 116,
    "start_time": "2021-11-16T11:01:48.754Z"
   },
   {
    "duration": 3,
    "start_time": "2021-11-16T11:02:16.685Z"
   },
   {
    "duration": 3,
    "start_time": "2021-11-16T11:02:19.479Z"
   },
   {
    "duration": 3,
    "start_time": "2021-11-16T11:02:47.067Z"
   },
   {
    "duration": 3,
    "start_time": "2021-11-16T11:02:49.353Z"
   },
   {
    "duration": 3,
    "start_time": "2021-11-16T11:03:07.835Z"
   },
   {
    "duration": 3,
    "start_time": "2021-11-16T11:03:07.953Z"
   },
   {
    "duration": 112,
    "start_time": "2021-11-16T11:07:52.072Z"
   },
   {
    "duration": 187,
    "start_time": "2021-11-16T11:09:23.468Z"
   },
   {
    "duration": 4,
    "start_time": "2021-11-16T11:10:01.455Z"
   },
   {
    "duration": 3,
    "start_time": "2021-11-16T11:10:05.069Z"
   },
   {
    "duration": 4,
    "start_time": "2021-11-16T11:10:13.376Z"
   },
   {
    "duration": 3,
    "start_time": "2021-11-16T11:10:14.434Z"
   },
   {
    "duration": 3,
    "start_time": "2021-11-16T11:10:22.853Z"
   },
   {
    "duration": 4,
    "start_time": "2021-11-16T11:27:29.279Z"
   },
   {
    "duration": 4,
    "start_time": "2021-11-16T11:29:08.919Z"
   },
   {
    "duration": 118,
    "start_time": "2021-11-16T11:29:46.703Z"
   },
   {
    "duration": 437,
    "start_time": "2021-11-16T11:36:02.181Z"
   },
   {
    "duration": 157,
    "start_time": "2021-11-16T11:36:14.388Z"
   },
   {
    "duration": 207,
    "start_time": "2021-11-16T11:47:15.898Z"
   },
   {
    "duration": 3,
    "start_time": "2021-11-16T11:53:52.092Z"
   },
   {
    "duration": 3,
    "start_time": "2021-11-16T11:53:52.236Z"
   },
   {
    "duration": 3,
    "start_time": "2021-11-16T11:59:12.005Z"
   },
   {
    "duration": 112,
    "start_time": "2021-11-16T12:00:33.446Z"
   },
   {
    "duration": 3,
    "start_time": "2021-11-16T12:02:14.453Z"
   },
   {
    "duration": 3,
    "start_time": "2021-11-16T12:02:39.512Z"
   },
   {
    "duration": 106,
    "start_time": "2021-11-16T12:03:03.460Z"
   },
   {
    "duration": 3,
    "start_time": "2021-11-17T20:37:21.139Z"
   },
   {
    "duration": 3,
    "start_time": "2021-11-17T20:37:22.229Z"
   },
   {
    "duration": 3,
    "start_time": "2021-11-17T20:38:38.806Z"
   },
   {
    "duration": 3,
    "start_time": "2021-11-17T20:38:41.958Z"
   },
   {
    "duration": 3,
    "start_time": "2021-11-17T20:43:46.551Z"
   },
   {
    "duration": 4,
    "start_time": "2021-11-17T20:58:21.835Z"
   },
   {
    "duration": 3,
    "start_time": "2021-11-17T20:59:21.872Z"
   },
   {
    "duration": 4,
    "start_time": "2021-11-17T20:59:45.352Z"
   },
   {
    "duration": 4,
    "start_time": "2021-11-17T20:59:49.646Z"
   },
   {
    "duration": 159,
    "start_time": "2021-11-17T21:02:26.949Z"
   },
   {
    "duration": 3,
    "start_time": "2021-11-17T21:03:53.461Z"
   },
   {
    "duration": 3,
    "start_time": "2021-11-17T21:03:53.694Z"
   },
   {
    "duration": 3,
    "start_time": "2021-11-17T21:05:28.145Z"
   },
   {
    "duration": 116,
    "start_time": "2021-11-17T21:05:57.787Z"
   },
   {
    "duration": 3,
    "start_time": "2021-11-17T21:06:37.993Z"
   },
   {
    "duration": 3,
    "start_time": "2021-11-17T21:06:38.261Z"
   },
   {
    "duration": 3,
    "start_time": "2021-11-17T21:11:54.358Z"
   },
   {
    "duration": 3,
    "start_time": "2021-11-17T21:12:43.846Z"
   },
   {
    "duration": 4,
    "start_time": "2021-11-17T21:13:08.773Z"
   },
   {
    "duration": 3,
    "start_time": "2021-11-17T21:14:44.441Z"
   },
   {
    "duration": 3,
    "start_time": "2021-11-17T21:15:42.059Z"
   },
   {
    "duration": 4,
    "start_time": "2021-11-17T21:15:51.995Z"
   },
   {
    "duration": 3,
    "start_time": "2021-11-17T21:15:53.923Z"
   },
   {
    "duration": 3,
    "start_time": "2021-11-17T21:15:55.282Z"
   },
   {
    "duration": 3,
    "start_time": "2021-11-17T21:16:28.492Z"
   },
   {
    "duration": 3,
    "start_time": "2021-11-17T21:16:32.603Z"
   },
   {
    "duration": 3,
    "start_time": "2021-11-17T21:17:06.941Z"
   },
   {
    "duration": 98,
    "start_time": "2021-11-17T21:18:05.733Z"
   },
   {
    "duration": 4,
    "start_time": "2021-11-17T21:21:35.255Z"
   },
   {
    "duration": 3,
    "start_time": "2021-11-17T21:21:37.804Z"
   },
   {
    "duration": 4,
    "start_time": "2021-11-17T21:23:06.071Z"
   },
   {
    "duration": 3,
    "start_time": "2021-11-17T21:23:24.799Z"
   },
   {
    "duration": 3,
    "start_time": "2021-11-17T21:23:32.591Z"
   },
   {
    "duration": 98,
    "start_time": "2021-11-17T21:28:31.559Z"
   },
   {
    "duration": 3,
    "start_time": "2021-11-17T21:28:45.448Z"
   },
   {
    "duration": 3,
    "start_time": "2021-11-17T21:29:17.303Z"
   },
   {
    "duration": 3,
    "start_time": "2021-11-17T21:29:29.617Z"
   },
   {
    "duration": 3,
    "start_time": "2021-11-17T21:29:32.681Z"
   },
   {
    "duration": 3,
    "start_time": "2021-11-17T21:36:11.474Z"
   },
   {
    "duration": 3,
    "start_time": "2021-11-17T21:36:14.791Z"
   },
   {
    "duration": 3,
    "start_time": "2021-11-17T21:36:53.943Z"
   },
   {
    "duration": 3,
    "start_time": "2021-11-17T21:36:56.165Z"
   },
   {
    "duration": 4,
    "start_time": "2021-11-17T21:37:16.590Z"
   },
   {
    "duration": 3,
    "start_time": "2021-11-17T21:37:22.702Z"
   },
   {
    "duration": 4,
    "start_time": "2021-11-17T21:38:03.479Z"
   },
   {
    "duration": 3,
    "start_time": "2021-11-17T21:38:08.601Z"
   },
   {
    "duration": 3,
    "start_time": "2021-11-17T21:38:12.928Z"
   },
   {
    "duration": 3,
    "start_time": "2021-11-17T21:38:48.896Z"
   },
   {
    "duration": 2,
    "start_time": "2021-11-17T21:38:49.171Z"
   },
   {
    "duration": 4,
    "start_time": "2021-11-17T21:39:57.889Z"
   },
   {
    "duration": 3,
    "start_time": "2021-11-17T21:39:58.057Z"
   },
   {
    "duration": 3,
    "start_time": "2021-11-17T21:41:20.108Z"
   },
   {
    "duration": 3,
    "start_time": "2021-11-17T21:41:20.629Z"
   },
   {
    "duration": 3,
    "start_time": "2021-11-17T21:42:49.136Z"
   },
   {
    "duration": 3,
    "start_time": "2021-11-17T21:43:15.137Z"
   },
   {
    "duration": 4,
    "start_time": "2021-11-17T21:43:16.766Z"
   },
   {
    "duration": 4,
    "start_time": "2021-11-17T21:43:31.711Z"
   },
   {
    "duration": 3,
    "start_time": "2021-11-17T21:43:36.312Z"
   },
   {
    "duration": 4,
    "start_time": "2021-11-17T21:45:08.825Z"
   },
   {
    "duration": 4,
    "start_time": "2021-11-17T21:45:10.119Z"
   },
   {
    "duration": 4,
    "start_time": "2021-11-17T21:45:13.748Z"
   },
   {
    "duration": 3,
    "start_time": "2021-11-17T21:45:22.219Z"
   },
   {
    "duration": 3,
    "start_time": "2021-11-17T21:45:33.412Z"
   },
   {
    "duration": 2,
    "start_time": "2021-11-17T21:46:01.885Z"
   },
   {
    "duration": 3,
    "start_time": "2021-11-17T21:46:03.628Z"
   },
   {
    "duration": 107,
    "start_time": "2021-11-17T21:47:32.512Z"
   },
   {
    "duration": 103,
    "start_time": "2021-11-17T21:50:36.243Z"
   },
   {
    "duration": 3,
    "start_time": "2021-11-18T06:28:31.440Z"
   },
   {
    "duration": 3,
    "start_time": "2021-11-18T06:29:00.168Z"
   },
   {
    "duration": 3,
    "start_time": "2021-11-18T06:31:27.008Z"
   },
   {
    "duration": 2,
    "start_time": "2021-11-18T06:35:34.288Z"
   },
   {
    "duration": 2,
    "start_time": "2021-11-18T06:38:04.527Z"
   },
   {
    "duration": 581,
    "start_time": "2025-02-12T16:42:06.033Z"
   },
   {
    "duration": 1863,
    "start_time": "2025-02-12T16:42:39.965Z"
   },
   {
    "duration": 88,
    "start_time": "2025-02-12T16:52:45.115Z"
   },
   {
    "duration": 201,
    "start_time": "2025-02-12T16:55:37.127Z"
   },
   {
    "duration": 107,
    "start_time": "2025-02-12T17:03:38.884Z"
   },
   {
    "duration": 22,
    "start_time": "2025-02-12T17:04:47.883Z"
   },
   {
    "duration": 396,
    "start_time": "2025-02-12T17:06:02.499Z"
   },
   {
    "duration": 144,
    "start_time": "2025-02-12T17:08:35.147Z"
   },
   {
    "duration": 12,
    "start_time": "2025-02-12T17:08:47.540Z"
   },
   {
    "duration": 143,
    "start_time": "2025-02-12T17:13:28.240Z"
   },
   {
    "duration": 15,
    "start_time": "2025-02-12T17:13:41.850Z"
   },
   {
    "duration": 129,
    "start_time": "2025-02-12T17:15:30.833Z"
   },
   {
    "duration": 119,
    "start_time": "2025-02-12T17:20:16.422Z"
   },
   {
    "duration": 155,
    "start_time": "2025-02-12T17:21:15.605Z"
   },
   {
    "duration": 123,
    "start_time": "2025-02-12T17:21:42.380Z"
   },
   {
    "duration": 18,
    "start_time": "2025-02-12T17:29:46.247Z"
   },
   {
    "duration": 20,
    "start_time": "2025-02-12T17:29:54.463Z"
   },
   {
    "duration": 14,
    "start_time": "2025-02-12T17:30:23.478Z"
   },
   {
    "duration": 6,
    "start_time": "2025-02-12T17:30:42.233Z"
   },
   {
    "duration": 4,
    "start_time": "2025-02-12T17:35:49.677Z"
   },
   {
    "duration": 15,
    "start_time": "2025-02-12T17:38:44.671Z"
   },
   {
    "duration": 5,
    "start_time": "2025-02-12T17:38:56.070Z"
   },
   {
    "duration": 5,
    "start_time": "2025-02-12T17:39:43.869Z"
   },
   {
    "duration": 19,
    "start_time": "2025-02-12T17:40:26.485Z"
   },
   {
    "duration": 6,
    "start_time": "2025-02-12T17:40:46.261Z"
   },
   {
    "duration": 529,
    "start_time": "2025-02-12T18:18:57.680Z"
   },
   {
    "duration": 6,
    "start_time": "2025-02-12T18:20:43.311Z"
   },
   {
    "duration": 20,
    "start_time": "2025-02-12T18:32:05.446Z"
   },
   {
    "duration": 18,
    "start_time": "2025-02-12T18:32:31.930Z"
   },
   {
    "duration": 22,
    "start_time": "2025-02-12T18:33:07.271Z"
   },
   {
    "duration": 407,
    "start_time": "2025-02-12T18:33:22.755Z"
   },
   {
    "duration": 57,
    "start_time": "2025-02-12T18:34:17.346Z"
   },
   {
    "duration": 254,
    "start_time": "2025-02-12T18:36:39.126Z"
   },
   {
    "duration": 247,
    "start_time": "2025-02-12T18:42:13.126Z"
   },
   {
    "duration": 18,
    "start_time": "2025-02-12T18:42:44.694Z"
   },
   {
    "duration": 6,
    "start_time": "2025-02-12T18:43:07.102Z"
   },
   {
    "duration": 6,
    "start_time": "2025-02-12T18:43:14.092Z"
   },
   {
    "duration": 14,
    "start_time": "2025-02-12T18:45:46.980Z"
   },
   {
    "duration": 20,
    "start_time": "2025-02-12T18:47:09.236Z"
   },
   {
    "duration": 417,
    "start_time": "2025-02-12T18:50:33.584Z"
   },
   {
    "duration": 457,
    "start_time": "2025-02-12T18:53:40.104Z"
   },
   {
    "duration": 216,
    "start_time": "2025-02-12T18:53:40.563Z"
   },
   {
    "duration": 114,
    "start_time": "2025-02-12T18:53:40.780Z"
   },
   {
    "duration": 19,
    "start_time": "2025-02-12T18:53:40.902Z"
   },
   {
    "duration": 5,
    "start_time": "2025-02-12T18:53:40.923Z"
   },
   {
    "duration": 6,
    "start_time": "2025-02-12T18:53:40.930Z"
   },
   {
    "duration": 7,
    "start_time": "2025-02-12T18:53:40.937Z"
   },
   {
    "duration": 19,
    "start_time": "2025-02-12T18:53:40.946Z"
   },
   {
    "duration": 6,
    "start_time": "2025-02-12T18:53:40.967Z"
   },
   {
    "duration": 7,
    "start_time": "2025-02-12T18:53:41.008Z"
   },
   {
    "duration": 293,
    "start_time": "2025-02-12T18:53:41.017Z"
   },
   {
    "duration": 15,
    "start_time": "2025-02-12T18:53:41.312Z"
   },
   {
    "duration": 7,
    "start_time": "2025-02-12T18:53:41.328Z"
   },
   {
    "duration": 18,
    "start_time": "2025-02-12T18:53:41.336Z"
   },
   {
    "duration": 39255,
    "start_time": "2025-02-12T18:53:41.356Z"
   },
   {
    "duration": 0,
    "start_time": "2025-02-12T18:54:20.613Z"
   },
   {
    "duration": 0,
    "start_time": "2025-02-12T18:54:20.614Z"
   },
   {
    "duration": 0,
    "start_time": "2025-02-12T18:54:20.615Z"
   },
   {
    "duration": 0,
    "start_time": "2025-02-12T18:54:20.616Z"
   },
   {
    "duration": 0,
    "start_time": "2025-02-12T18:54:20.617Z"
   },
   {
    "duration": 0,
    "start_time": "2025-02-12T18:54:20.618Z"
   },
   {
    "duration": 0,
    "start_time": "2025-02-12T18:54:20.619Z"
   },
   {
    "duration": 0,
    "start_time": "2025-02-12T18:54:20.620Z"
   },
   {
    "duration": 0,
    "start_time": "2025-02-12T18:54:20.621Z"
   },
   {
    "duration": 0,
    "start_time": "2025-02-12T18:54:20.622Z"
   },
   {
    "duration": 0,
    "start_time": "2025-02-12T18:54:20.623Z"
   },
   {
    "duration": 0,
    "start_time": "2025-02-12T18:54:20.624Z"
   },
   {
    "duration": 0,
    "start_time": "2025-02-12T18:54:20.625Z"
   },
   {
    "duration": 0,
    "start_time": "2025-02-12T18:54:20.626Z"
   },
   {
    "duration": 0,
    "start_time": "2025-02-12T18:54:20.627Z"
   },
   {
    "duration": 0,
    "start_time": "2025-02-12T18:54:20.628Z"
   },
   {
    "duration": 0,
    "start_time": "2025-02-12T18:54:20.629Z"
   },
   {
    "duration": 0,
    "start_time": "2025-02-12T18:54:20.630Z"
   },
   {
    "duration": 0,
    "start_time": "2025-02-12T18:54:20.631Z"
   },
   {
    "duration": 0,
    "start_time": "2025-02-12T18:54:20.632Z"
   },
   {
    "duration": 30053,
    "start_time": "2025-02-12T18:57:31.538Z"
   },
   {
    "duration": 24872,
    "start_time": "2025-02-12T18:59:30.708Z"
   },
   {
    "duration": 10853,
    "start_time": "2025-02-12T19:00:20.319Z"
   },
   {
    "duration": 5319,
    "start_time": "2025-02-12T19:00:55.937Z"
   },
   {
    "duration": 12,
    "start_time": "2025-02-12T19:01:36.859Z"
   },
   {
    "duration": 349,
    "start_time": "2025-02-12T19:02:40.116Z"
   },
   {
    "duration": 7305,
    "start_time": "2025-02-12T19:02:46.731Z"
   },
   {
    "duration": 11,
    "start_time": "2025-02-12T19:12:55.827Z"
   },
   {
    "duration": 8,
    "start_time": "2025-02-12T19:13:11.127Z"
   },
   {
    "duration": 10,
    "start_time": "2025-02-12T19:19:26.438Z"
   },
   {
    "duration": 3991,
    "start_time": "2025-02-12T19:22:26.508Z"
   },
   {
    "duration": 23,
    "start_time": "2025-02-12T19:23:27.042Z"
   },
   {
    "duration": 7,
    "start_time": "2025-02-12T19:24:23.030Z"
   },
   {
    "duration": 14,
    "start_time": "2025-02-12T19:24:25.016Z"
   },
   {
    "duration": 6,
    "start_time": "2025-02-12T19:24:40.134Z"
   },
   {
    "duration": 14,
    "start_time": "2025-02-12T19:26:25.926Z"
   },
   {
    "duration": 5412,
    "start_time": "2025-02-12T19:28:50.161Z"
   },
   {
    "duration": 11,
    "start_time": "2025-02-12T19:36:43.277Z"
   },
   {
    "duration": 7404,
    "start_time": "2025-02-12T19:44:00.005Z"
   },
   {
    "duration": 7681,
    "start_time": "2025-02-12T19:44:14.643Z"
   },
   {
    "duration": 7571,
    "start_time": "2025-02-12T19:44:28.506Z"
   },
   {
    "duration": 3996,
    "start_time": "2025-02-12T19:46:16.502Z"
   },
   {
    "duration": 4016,
    "start_time": "2025-02-12T19:47:13.693Z"
   },
   {
    "duration": 5533,
    "start_time": "2025-02-12T19:48:25.167Z"
   },
   {
    "duration": 16,
    "start_time": "2025-02-12T19:51:25.066Z"
   },
   {
    "duration": 16,
    "start_time": "2025-02-12T19:51:52.801Z"
   },
   {
    "duration": 10,
    "start_time": "2025-02-12T19:52:26.694Z"
   },
   {
    "duration": 34,
    "start_time": "2025-02-12T19:56:34.618Z"
   },
   {
    "duration": 534,
    "start_time": "2025-02-12T19:59:49.443Z"
   },
   {
    "duration": 221,
    "start_time": "2025-02-12T20:00:26.266Z"
   },
   {
    "duration": 218,
    "start_time": "2025-02-12T20:03:15.859Z"
   },
   {
    "duration": 220,
    "start_time": "2025-02-12T20:03:35.035Z"
   },
   {
    "duration": 155,
    "start_time": "2025-02-12T20:09:08.838Z"
   },
   {
    "duration": 153,
    "start_time": "2025-02-12T20:10:51.454Z"
   },
   {
    "duration": 2166,
    "start_time": "2025-02-12T22:10:07.528Z"
   },
   {
    "duration": 215,
    "start_time": "2025-02-12T22:10:09.696Z"
   },
   {
    "duration": 113,
    "start_time": "2025-02-12T22:10:09.913Z"
   },
   {
    "duration": 16,
    "start_time": "2025-02-12T22:10:10.029Z"
   },
   {
    "duration": 4,
    "start_time": "2025-02-12T22:10:10.047Z"
   },
   {
    "duration": 7,
    "start_time": "2025-02-12T22:10:10.053Z"
   },
   {
    "duration": 7,
    "start_time": "2025-02-12T22:10:10.061Z"
   },
   {
    "duration": 9,
    "start_time": "2025-02-12T22:10:10.070Z"
   },
   {
    "duration": 5,
    "start_time": "2025-02-12T22:10:10.081Z"
   },
   {
    "duration": 44,
    "start_time": "2025-02-12T22:10:10.089Z"
   },
   {
    "duration": 270,
    "start_time": "2025-02-12T22:10:10.135Z"
   },
   {
    "duration": 39,
    "start_time": "2025-02-12T22:10:10.407Z"
   },
   {
    "duration": 8,
    "start_time": "2025-02-12T22:10:10.447Z"
   },
   {
    "duration": 20,
    "start_time": "2025-02-12T22:10:10.457Z"
   },
   {
    "duration": 6928,
    "start_time": "2025-02-12T22:10:10.479Z"
   },
   {
    "duration": 8,
    "start_time": "2025-02-12T22:10:17.409Z"
   },
   {
    "duration": 12,
    "start_time": "2025-02-12T22:10:17.419Z"
   },
   {
    "duration": 12,
    "start_time": "2025-02-12T22:10:17.433Z"
   },
   {
    "duration": 3888,
    "start_time": "2025-02-12T22:10:17.447Z"
   },
   {
    "duration": 14,
    "start_time": "2025-02-12T22:10:21.337Z"
   },
   {
    "duration": 5,
    "start_time": "2025-02-12T22:10:21.353Z"
   },
   {
    "duration": 15,
    "start_time": "2025-02-12T22:10:21.360Z"
   },
   {
    "duration": 5309,
    "start_time": "2025-02-12T22:10:21.377Z"
   },
   {
    "duration": 10,
    "start_time": "2025-02-12T22:10:26.688Z"
   },
   {
    "duration": 3,
    "start_time": "2025-02-12T22:10:26.699Z"
   },
   {
    "duration": 3,
    "start_time": "2025-02-12T22:10:26.703Z"
   },
   {
    "duration": 23,
    "start_time": "2025-02-12T22:10:26.708Z"
   },
   {
    "duration": 2,
    "start_time": "2025-02-12T22:10:26.735Z"
   },
   {
    "duration": 2,
    "start_time": "2025-02-12T22:10:26.740Z"
   },
   {
    "duration": 2,
    "start_time": "2025-02-12T22:10:26.744Z"
   },
   {
    "duration": 4,
    "start_time": "2025-02-12T22:10:26.748Z"
   },
   {
    "duration": 35,
    "start_time": "2025-02-12T22:10:36.696Z"
   },
   {
    "duration": 7,
    "start_time": "2025-02-12T22:12:18.319Z"
   },
   {
    "duration": 508,
    "start_time": "2025-02-12T22:12:30.217Z"
   },
   {
    "duration": 217,
    "start_time": "2025-02-12T22:12:43.999Z"
   },
   {
    "duration": 66,
    "start_time": "2025-02-12T22:12:58.274Z"
   },
   {
    "duration": 54,
    "start_time": "2025-02-12T22:13:17.010Z"
   },
   {
    "duration": 220,
    "start_time": "2025-02-12T22:13:45.901Z"
   },
   {
    "duration": 235,
    "start_time": "2025-02-12T22:15:26.112Z"
   },
   {
    "duration": 219,
    "start_time": "2025-02-12T22:15:33.940Z"
   },
   {
    "duration": 223,
    "start_time": "2025-02-12T22:17:23.308Z"
   },
   {
    "duration": 217,
    "start_time": "2025-02-12T22:17:32.944Z"
   },
   {
    "duration": 20,
    "start_time": "2025-02-12T22:20:18.315Z"
   },
   {
    "duration": 216,
    "start_time": "2025-02-12T22:22:43.046Z"
   },
   {
    "duration": 246,
    "start_time": "2025-02-12T22:24:22.612Z"
   },
   {
    "duration": 185,
    "start_time": "2025-02-12T22:24:45.843Z"
   },
   {
    "duration": 181,
    "start_time": "2025-02-12T22:25:01.156Z"
   },
   {
    "duration": 190,
    "start_time": "2025-02-12T22:25:06.536Z"
   },
   {
    "duration": 5,
    "start_time": "2025-02-12T22:28:50.591Z"
   },
   {
    "duration": 6,
    "start_time": "2025-02-12T22:29:59.446Z"
   },
   {
    "duration": 13,
    "start_time": "2025-02-12T22:31:13.499Z"
   },
   {
    "duration": 101,
    "start_time": "2025-02-12T22:31:46.072Z"
   },
   {
    "duration": 115,
    "start_time": "2025-02-12T22:32:53.816Z"
   },
   {
    "duration": 114,
    "start_time": "2025-02-12T22:33:09.032Z"
   },
   {
    "duration": 199,
    "start_time": "2025-02-12T22:38:27.159Z"
   },
   {
    "duration": 210,
    "start_time": "2025-02-12T22:38:38.032Z"
   },
   {
    "duration": 196,
    "start_time": "2025-02-12T22:39:01.559Z"
   },
   {
    "duration": 218,
    "start_time": "2025-02-12T22:39:15.989Z"
   },
   {
    "duration": 165,
    "start_time": "2025-02-12T22:39:55.796Z"
   },
   {
    "duration": 50,
    "start_time": "2025-02-12T22:42:21.920Z"
   },
   {
    "duration": 13,
    "start_time": "2025-02-12T22:42:32.321Z"
   },
   {
    "duration": 10,
    "start_time": "2025-02-12T22:43:20.065Z"
   },
   {
    "duration": 10,
    "start_time": "2025-02-12T22:43:57.768Z"
   },
   {
    "duration": 9,
    "start_time": "2025-02-12T22:44:58.334Z"
   },
   {
    "duration": 15,
    "start_time": "2025-02-12T22:45:40.966Z"
   },
   {
    "duration": 8,
    "start_time": "2025-02-12T22:47:29.960Z"
   },
   {
    "duration": 13,
    "start_time": "2025-02-12T22:47:49.677Z"
   },
   {
    "duration": 24,
    "start_time": "2025-02-12T22:47:56.592Z"
   },
   {
    "duration": 11,
    "start_time": "2025-02-12T22:49:40.632Z"
   },
   {
    "duration": 11,
    "start_time": "2025-02-12T22:49:47.183Z"
   },
   {
    "duration": 23,
    "start_time": "2025-02-12T22:50:25.065Z"
   },
   {
    "duration": 22,
    "start_time": "2025-02-12T22:51:23.992Z"
   },
   {
    "duration": 255,
    "start_time": "2025-02-12T22:52:45.523Z"
   },
   {
    "duration": 15,
    "start_time": "2025-02-12T22:53:25.345Z"
   },
   {
    "duration": 20,
    "start_time": "2025-02-12T22:53:29.498Z"
   },
   {
    "duration": 18,
    "start_time": "2025-02-12T22:54:04.463Z"
   },
   {
    "duration": 12,
    "start_time": "2025-02-12T22:56:04.119Z"
   },
   {
    "duration": 12,
    "start_time": "2025-02-12T22:58:18.079Z"
   },
   {
    "duration": 14,
    "start_time": "2025-02-12T22:58:47.092Z"
   },
   {
    "duration": 13,
    "start_time": "2025-02-12T22:59:10.660Z"
   },
   {
    "duration": 16,
    "start_time": "2025-02-12T22:59:50.143Z"
   },
   {
    "duration": 4,
    "start_time": "2025-02-12T23:00:25.302Z"
   },
   {
    "duration": 22,
    "start_time": "2025-02-12T23:12:55.886Z"
   },
   {
    "duration": 15,
    "start_time": "2025-02-12T23:16:41.698Z"
   },
   {
    "duration": 15,
    "start_time": "2025-02-12T23:18:56.109Z"
   },
   {
    "duration": 16,
    "start_time": "2025-02-12T23:19:40.893Z"
   },
   {
    "duration": 15,
    "start_time": "2025-02-12T23:20:44.945Z"
   },
   {
    "duration": 20,
    "start_time": "2025-02-12T23:21:56.306Z"
   },
   {
    "duration": 20,
    "start_time": "2025-02-12T23:22:17.838Z"
   },
   {
    "duration": 18,
    "start_time": "2025-02-12T23:22:30.820Z"
   },
   {
    "duration": 293,
    "start_time": "2025-02-12T23:23:22.729Z"
   },
   {
    "duration": 52,
    "start_time": "2025-02-12T23:24:15.015Z"
   },
   {
    "duration": 58,
    "start_time": "2025-02-12T23:24:22.808Z"
   },
   {
    "duration": 54,
    "start_time": "2025-02-12T23:24:36.667Z"
   },
   {
    "duration": 53,
    "start_time": "2025-02-12T23:25:53.982Z"
   },
   {
    "duration": 53,
    "start_time": "2025-02-12T23:26:28.716Z"
   },
   {
    "duration": 28,
    "start_time": "2025-02-12T23:27:13.843Z"
   },
   {
    "duration": 38,
    "start_time": "2025-02-12T23:27:19.554Z"
   },
   {
    "duration": 3450,
    "start_time": "2025-02-12T23:27:24.338Z"
   },
   {
    "duration": 15,
    "start_time": "2025-02-12T23:30:08.559Z"
   },
   {
    "duration": 23,
    "start_time": "2025-02-12T23:30:22.643Z"
   },
   {
    "duration": 39,
    "start_time": "2025-02-12T23:30:28.938Z"
   },
   {
    "duration": 27,
    "start_time": "2025-02-12T23:31:01.138Z"
   },
   {
    "duration": 8,
    "start_time": "2025-02-12T23:32:02.352Z"
   },
   {
    "duration": 182,
    "start_time": "2025-02-12T23:33:15.484Z"
   },
   {
    "duration": 5,
    "start_time": "2025-02-12T23:34:48.550Z"
   },
   {
    "duration": 170,
    "start_time": "2025-02-12T23:35:27.663Z"
   },
   {
    "duration": 179,
    "start_time": "2025-02-12T23:35:37.924Z"
   },
   {
    "duration": 5,
    "start_time": "2025-02-12T23:36:04.484Z"
   },
   {
    "duration": 268,
    "start_time": "2025-02-12T23:38:22.994Z"
   },
   {
    "duration": 181,
    "start_time": "2025-02-12T23:39:58.873Z"
   },
   {
    "duration": 174,
    "start_time": "2025-02-12T23:42:18.894Z"
   },
   {
    "duration": 182,
    "start_time": "2025-02-12T23:42:32.739Z"
   },
   {
    "duration": 162,
    "start_time": "2025-02-12T23:44:31.797Z"
   },
   {
    "duration": 5,
    "start_time": "2025-02-12T23:44:52.939Z"
   },
   {
    "duration": 104,
    "start_time": "2025-02-12T23:44:59.049Z"
   },
   {
    "duration": 13,
    "start_time": "2025-02-12T23:47:49.458Z"
   },
   {
    "duration": 6,
    "start_time": "2025-02-12T23:47:55.628Z"
   },
   {
    "duration": 5,
    "start_time": "2025-02-12T23:48:08.812Z"
   },
   {
    "duration": 6,
    "start_time": "2025-02-12T23:48:45.954Z"
   },
   {
    "duration": 5,
    "start_time": "2025-02-12T23:49:16.124Z"
   },
   {
    "duration": 114,
    "start_time": "2025-02-12T23:49:54.768Z"
   },
   {
    "duration": 117,
    "start_time": "2025-02-12T23:50:07.994Z"
   },
   {
    "duration": 30,
    "start_time": "2025-02-12T23:53:39.418Z"
   },
   {
    "duration": 64,
    "start_time": "2025-02-12T23:53:47.768Z"
   },
   {
    "duration": 67,
    "start_time": "2025-02-12T23:53:56.113Z"
   },
   {
    "duration": 181,
    "start_time": "2025-02-12T23:54:04.920Z"
   },
   {
    "duration": 5,
    "start_time": "2025-02-12T23:55:01.620Z"
   },
   {
    "duration": 109,
    "start_time": "2025-02-12T23:55:40.747Z"
   },
   {
    "duration": 2217,
    "start_time": "2025-02-15T16:04:23.465Z"
   },
   {
    "duration": 220,
    "start_time": "2025-02-15T16:04:25.685Z"
   },
   {
    "duration": 119,
    "start_time": "2025-02-15T16:04:25.907Z"
   },
   {
    "duration": 17,
    "start_time": "2025-02-15T16:04:26.028Z"
   },
   {
    "duration": 4,
    "start_time": "2025-02-15T16:04:26.049Z"
   },
   {
    "duration": 6,
    "start_time": "2025-02-15T16:04:26.055Z"
   },
   {
    "duration": 8,
    "start_time": "2025-02-15T16:04:26.062Z"
   },
   {
    "duration": 41,
    "start_time": "2025-02-15T16:04:26.072Z"
   },
   {
    "duration": 6,
    "start_time": "2025-02-15T16:04:26.116Z"
   },
   {
    "duration": 7,
    "start_time": "2025-02-15T16:04:26.124Z"
   },
   {
    "duration": 285,
    "start_time": "2025-02-15T16:04:26.132Z"
   },
   {
    "duration": 14,
    "start_time": "2025-02-15T16:04:26.419Z"
   },
   {
    "duration": 6,
    "start_time": "2025-02-15T16:04:26.435Z"
   },
   {
    "duration": 17,
    "start_time": "2025-02-15T16:04:26.446Z"
   },
   {
    "duration": 7033,
    "start_time": "2025-02-15T16:04:26.464Z"
   },
   {
    "duration": 13,
    "start_time": "2025-02-15T16:04:33.499Z"
   },
   {
    "duration": 6,
    "start_time": "2025-02-15T16:04:33.513Z"
   },
   {
    "duration": 11,
    "start_time": "2025-02-15T16:04:33.520Z"
   },
   {
    "duration": 3974,
    "start_time": "2025-02-15T16:04:33.533Z"
   },
   {
    "duration": 15,
    "start_time": "2025-02-15T16:04:37.512Z"
   },
   {
    "duration": 6,
    "start_time": "2025-02-15T16:04:37.528Z"
   },
   {
    "duration": 14,
    "start_time": "2025-02-15T16:04:37.536Z"
   },
   {
    "duration": 5437,
    "start_time": "2025-02-15T16:04:37.552Z"
   },
   {
    "duration": 23,
    "start_time": "2025-02-15T16:04:42.991Z"
   },
   {
    "duration": 19,
    "start_time": "2025-02-15T16:04:43.016Z"
   },
   {
    "duration": 16,
    "start_time": "2025-02-15T16:04:43.037Z"
   },
   {
    "duration": 14,
    "start_time": "2025-02-15T16:04:43.056Z"
   },
   {
    "duration": 46,
    "start_time": "2025-02-15T16:04:43.071Z"
   },
   {
    "duration": 25,
    "start_time": "2025-02-15T16:04:43.119Z"
   },
   {
    "duration": 18,
    "start_time": "2025-02-15T16:04:43.146Z"
   },
   {
    "duration": 3578,
    "start_time": "2025-02-15T16:04:43.166Z"
   },
   {
    "duration": 6,
    "start_time": "2025-02-15T16:04:46.746Z"
   },
   {
    "duration": 258,
    "start_time": "2025-02-15T16:04:46.753Z"
   },
   {
    "duration": 178,
    "start_time": "2025-02-15T16:04:47.013Z"
   },
   {
    "duration": 6,
    "start_time": "2025-02-15T16:04:47.193Z"
   },
   {
    "duration": 140,
    "start_time": "2025-02-15T16:04:47.211Z"
   },
   {
    "duration": 223,
    "start_time": "2025-02-15T16:04:47.354Z"
   },
   {
    "duration": 6,
    "start_time": "2025-02-15T16:04:47.579Z"
   },
   {
    "duration": 140,
    "start_time": "2025-02-15T16:04:47.587Z"
   },
   {
    "duration": 223,
    "start_time": "2025-02-15T16:04:47.730Z"
   },
   {
    "duration": 6,
    "start_time": "2025-02-15T16:04:47.958Z"
   },
   {
    "duration": 151,
    "start_time": "2025-02-15T16:04:47.966Z"
   },
   {
    "duration": 2,
    "start_time": "2025-02-15T16:04:48.119Z"
   },
   {
    "duration": 2,
    "start_time": "2025-02-15T16:04:48.124Z"
   },
   {
    "duration": 8,
    "start_time": "2025-02-15T16:09:10.666Z"
   },
   {
    "duration": 241,
    "start_time": "2025-02-15T16:12:11.872Z"
   },
   {
    "duration": 122,
    "start_time": "2025-02-15T16:12:40.180Z"
   },
   {
    "duration": 266,
    "start_time": "2025-02-15T16:12:53.805Z"
   },
   {
    "duration": 190,
    "start_time": "2025-02-15T16:13:00.642Z"
   },
   {
    "duration": 274,
    "start_time": "2025-02-15T16:14:37.539Z"
   },
   {
    "duration": 186,
    "start_time": "2025-02-15T16:14:47.760Z"
   },
   {
    "duration": 6,
    "start_time": "2025-02-15T16:15:31.087Z"
   },
   {
    "duration": 6,
    "start_time": "2025-02-15T16:15:41.297Z"
   },
   {
    "duration": 2363,
    "start_time": "2025-02-15T17:53:11.522Z"
   },
   {
    "duration": 262,
    "start_time": "2025-02-15T17:53:13.887Z"
   },
   {
    "duration": 124,
    "start_time": "2025-02-15T17:53:14.152Z"
   },
   {
    "duration": 19,
    "start_time": "2025-02-15T17:53:14.279Z"
   },
   {
    "duration": 5,
    "start_time": "2025-02-15T17:53:14.300Z"
   },
   {
    "duration": 23,
    "start_time": "2025-02-15T17:53:14.308Z"
   },
   {
    "duration": 7,
    "start_time": "2025-02-15T17:53:14.333Z"
   },
   {
    "duration": 11,
    "start_time": "2025-02-15T17:53:14.342Z"
   },
   {
    "duration": 6,
    "start_time": "2025-02-15T17:53:14.355Z"
   },
   {
    "duration": 5,
    "start_time": "2025-02-15T17:53:14.366Z"
   },
   {
    "duration": 307,
    "start_time": "2025-02-15T17:53:14.373Z"
   },
   {
    "duration": 20,
    "start_time": "2025-02-15T17:53:14.682Z"
   },
   {
    "duration": 29,
    "start_time": "2025-02-15T17:53:14.705Z"
   },
   {
    "duration": 26,
    "start_time": "2025-02-15T17:53:14.738Z"
   },
   {
    "duration": 7492,
    "start_time": "2025-02-15T17:53:14.766Z"
   },
   {
    "duration": 10,
    "start_time": "2025-02-15T17:53:22.259Z"
   },
   {
    "duration": 7,
    "start_time": "2025-02-15T17:53:22.273Z"
   },
   {
    "duration": 15,
    "start_time": "2025-02-15T17:53:22.282Z"
   },
   {
    "duration": 4133,
    "start_time": "2025-02-15T17:53:22.299Z"
   },
   {
    "duration": 15,
    "start_time": "2025-02-15T17:53:26.434Z"
   },
   {
    "duration": 7,
    "start_time": "2025-02-15T17:53:26.451Z"
   },
   {
    "duration": 15,
    "start_time": "2025-02-15T17:53:26.459Z"
   },
   {
    "duration": 5692,
    "start_time": "2025-02-15T17:53:26.476Z"
   },
   {
    "duration": 11,
    "start_time": "2025-02-15T17:53:32.171Z"
   },
   {
    "duration": 22,
    "start_time": "2025-02-15T17:53:32.184Z"
   },
   {
    "duration": 33,
    "start_time": "2025-02-15T17:53:32.208Z"
   },
   {
    "duration": 14,
    "start_time": "2025-02-15T17:53:32.243Z"
   },
   {
    "duration": 12,
    "start_time": "2025-02-15T17:53:32.262Z"
   },
   {
    "duration": 24,
    "start_time": "2025-02-15T17:53:32.276Z"
   },
   {
    "duration": 47,
    "start_time": "2025-02-15T17:53:32.302Z"
   },
   {
    "duration": 3472,
    "start_time": "2025-02-15T17:53:32.350Z"
   },
   {
    "duration": 7,
    "start_time": "2025-02-15T17:53:35.834Z"
   },
   {
    "duration": 250,
    "start_time": "2025-02-15T17:53:35.844Z"
   },
   {
    "duration": 177,
    "start_time": "2025-02-15T17:53:36.095Z"
   },
   {
    "duration": 6,
    "start_time": "2025-02-15T17:53:36.274Z"
   },
   {
    "duration": 131,
    "start_time": "2025-02-15T17:53:36.282Z"
   },
   {
    "duration": 203,
    "start_time": "2025-02-15T17:53:36.415Z"
   },
   {
    "duration": 12,
    "start_time": "2025-02-15T17:53:36.620Z"
   },
   {
    "duration": 155,
    "start_time": "2025-02-15T17:53:36.634Z"
   },
   {
    "duration": 240,
    "start_time": "2025-02-15T17:53:36.791Z"
   },
   {
    "duration": 7,
    "start_time": "2025-02-15T17:53:37.033Z"
   },
   {
    "duration": 147,
    "start_time": "2025-02-15T17:53:37.042Z"
   },
   {
    "duration": 8,
    "start_time": "2025-02-15T17:53:37.191Z"
   },
   {
    "duration": 278,
    "start_time": "2025-02-15T17:53:37.200Z"
   },
   {
    "duration": 6,
    "start_time": "2025-02-15T17:53:37.480Z"
   },
   {
    "duration": 2,
    "start_time": "2025-02-15T17:53:37.488Z"
   },
   {
    "duration": 3,
    "start_time": "2025-02-15T17:53:37.491Z"
   },
   {
    "duration": 5,
    "start_time": "2025-02-15T17:55:37.991Z"
   },
   {
    "duration": 7,
    "start_time": "2025-02-15T17:56:23.501Z"
   },
   {
    "duration": 142,
    "start_time": "2025-02-15T17:56:48.601Z"
   },
   {
    "duration": 539,
    "start_time": "2025-02-15T17:57:13.934Z"
   },
   {
    "duration": 105,
    "start_time": "2025-02-15T17:57:27.760Z"
   },
   {
    "duration": 188,
    "start_time": "2025-02-15T18:00:14.408Z"
   },
   {
    "duration": 7,
    "start_time": "2025-02-15T18:00:54.353Z"
   },
   {
    "duration": 20828,
    "start_time": "2025-02-15T18:01:40.644Z"
   },
   {
    "duration": 114,
    "start_time": "2025-02-15T18:07:06.724Z"
   },
   {
    "duration": 125,
    "start_time": "2025-02-15T18:07:29.122Z"
   },
   {
    "duration": 123,
    "start_time": "2025-02-15T18:07:54.188Z"
   },
   {
    "duration": 132,
    "start_time": "2025-02-15T18:10:07.327Z"
   },
   {
    "duration": 4,
    "start_time": "2025-02-15T18:12:34.273Z"
   },
   {
    "duration": 12,
    "start_time": "2025-02-15T18:12:40.234Z"
   },
   {
    "duration": 633,
    "start_time": "2025-02-15T18:13:37.444Z"
   },
   {
    "duration": 113,
    "start_time": "2025-02-15T18:14:47.964Z"
   },
   {
    "duration": 8,
    "start_time": "2025-02-15T18:17:37.147Z"
   },
   {
    "duration": 481,
    "start_time": "2025-02-15T18:19:30.936Z"
   },
   {
    "duration": 15,
    "start_time": "2025-02-15T18:19:41.118Z"
   },
   {
    "duration": 15,
    "start_time": "2025-02-15T18:20:01.293Z"
   },
   {
    "duration": 288,
    "start_time": "2025-02-15T18:24:47.398Z"
   },
   {
    "duration": 6,
    "start_time": "2025-02-15T18:28:34.519Z"
   },
   {
    "duration": 109,
    "start_time": "2025-02-15T18:35:23.364Z"
   },
   {
    "duration": 7,
    "start_time": "2025-02-15T18:35:47.653Z"
   },
   {
    "duration": 336,
    "start_time": "2025-02-15T18:40:31.154Z"
   },
   {
    "duration": 17,
    "start_time": "2025-02-15T18:41:06.292Z"
   },
   {
    "duration": 18,
    "start_time": "2025-02-15T18:42:03.637Z"
   },
   {
    "duration": 754,
    "start_time": "2025-02-15T18:43:21.220Z"
   },
   {
    "duration": 166,
    "start_time": "2025-02-15T18:43:21.977Z"
   },
   {
    "duration": 116,
    "start_time": "2025-02-15T18:43:22.144Z"
   },
   {
    "duration": 17,
    "start_time": "2025-02-15T18:43:22.263Z"
   },
   {
    "duration": 5,
    "start_time": "2025-02-15T18:43:22.282Z"
   },
   {
    "duration": 5,
    "start_time": "2025-02-15T18:43:22.288Z"
   },
   {
    "duration": 7,
    "start_time": "2025-02-15T18:43:22.295Z"
   },
   {
    "duration": 35,
    "start_time": "2025-02-15T18:43:22.304Z"
   },
   {
    "duration": 6,
    "start_time": "2025-02-15T18:43:22.340Z"
   },
   {
    "duration": 5,
    "start_time": "2025-02-15T18:43:22.349Z"
   },
   {
    "duration": 280,
    "start_time": "2025-02-15T18:43:22.356Z"
   },
   {
    "duration": 16,
    "start_time": "2025-02-15T18:43:22.638Z"
   },
   {
    "duration": 6,
    "start_time": "2025-02-15T18:43:22.656Z"
   },
   {
    "duration": 18,
    "start_time": "2025-02-15T18:43:22.664Z"
   },
   {
    "duration": 7620,
    "start_time": "2025-02-15T18:43:22.683Z"
   },
   {
    "duration": 9,
    "start_time": "2025-02-15T18:43:30.305Z"
   },
   {
    "duration": 18,
    "start_time": "2025-02-15T18:43:30.316Z"
   },
   {
    "duration": 11,
    "start_time": "2025-02-15T18:43:30.335Z"
   },
   {
    "duration": 4017,
    "start_time": "2025-02-15T18:43:30.347Z"
   },
   {
    "duration": 15,
    "start_time": "2025-02-15T18:43:34.366Z"
   },
   {
    "duration": 8,
    "start_time": "2025-02-15T18:43:34.382Z"
   },
   {
    "duration": 12,
    "start_time": "2025-02-15T18:43:34.392Z"
   },
   {
    "duration": 5472,
    "start_time": "2025-02-15T18:43:34.406Z"
   },
   {
    "duration": 9,
    "start_time": "2025-02-15T18:43:39.880Z"
   },
   {
    "duration": 17,
    "start_time": "2025-02-15T18:43:39.891Z"
   },
   {
    "duration": 33,
    "start_time": "2025-02-15T18:43:39.909Z"
   },
   {
    "duration": 11,
    "start_time": "2025-02-15T18:43:39.943Z"
   },
   {
    "duration": 9,
    "start_time": "2025-02-15T18:43:39.958Z"
   },
   {
    "duration": 23,
    "start_time": "2025-02-15T18:43:39.969Z"
   },
   {
    "duration": 49,
    "start_time": "2025-02-15T18:43:39.994Z"
   },
   {
    "duration": 3454,
    "start_time": "2025-02-15T18:43:40.045Z"
   },
   {
    "duration": 6,
    "start_time": "2025-02-15T18:43:43.501Z"
   },
   {
    "duration": 233,
    "start_time": "2025-02-15T18:43:43.509Z"
   },
   {
    "duration": 170,
    "start_time": "2025-02-15T18:43:43.743Z"
   },
   {
    "duration": 6,
    "start_time": "2025-02-15T18:43:43.914Z"
   },
   {
    "duration": 114,
    "start_time": "2025-02-15T18:43:43.931Z"
   },
   {
    "duration": 199,
    "start_time": "2025-02-15T18:43:44.046Z"
   },
   {
    "duration": 5,
    "start_time": "2025-02-15T18:43:44.247Z"
   },
   {
    "duration": 125,
    "start_time": "2025-02-15T18:43:44.254Z"
   },
   {
    "duration": 209,
    "start_time": "2025-02-15T18:43:44.381Z"
   },
   {
    "duration": 5,
    "start_time": "2025-02-15T18:43:44.592Z"
   },
   {
    "duration": 118,
    "start_time": "2025-02-15T18:43:44.598Z"
   },
   {
    "duration": 24,
    "start_time": "2025-02-15T18:43:44.718Z"
   },
   {
    "duration": 184,
    "start_time": "2025-02-15T18:43:44.744Z"
   },
   {
    "duration": 116,
    "start_time": "2025-02-15T18:43:44.931Z"
   },
   {
    "duration": 5,
    "start_time": "2025-02-15T18:43:45.049Z"
   },
   {
    "duration": 17,
    "start_time": "2025-02-15T18:43:45.056Z"
   },
   {
    "duration": 18,
    "start_time": "2025-02-15T18:43:57.433Z"
   },
   {
    "duration": 269,
    "start_time": "2025-02-15T18:44:30.485Z"
   },
   {
    "duration": 279,
    "start_time": "2025-02-15T18:44:44.181Z"
   },
   {
    "duration": 18,
    "start_time": "2025-02-15T18:45:17.091Z"
   },
   {
    "duration": 23,
    "start_time": "2025-02-15T18:45:42.261Z"
   },
   {
    "duration": 23,
    "start_time": "2025-02-15T18:47:08.417Z"
   },
   {
    "duration": 6,
    "start_time": "2025-02-15T18:50:19.590Z"
   },
   {
    "duration": 5,
    "start_time": "2025-02-15T18:52:11.337Z"
   },
   {
    "duration": 242,
    "start_time": "2025-02-15T18:52:54.578Z"
   },
   {
    "duration": 28,
    "start_time": "2025-02-15T18:53:19.080Z"
   },
   {
    "duration": 16,
    "start_time": "2025-02-15T18:53:26.568Z"
   },
   {
    "duration": 14,
    "start_time": "2025-02-15T18:53:40.596Z"
   },
   {
    "duration": 15,
    "start_time": "2025-02-15T18:56:31.434Z"
   },
   {
    "duration": 15,
    "start_time": "2025-02-15T18:56:58.470Z"
   },
   {
    "duration": 15,
    "start_time": "2025-02-15T18:57:06.855Z"
   }
  ],
  "colab": {
   "provenance": []
  },
  "kernelspec": {
   "display_name": "Python 3 (ipykernel)",
   "language": "python",
   "name": "python3"
  },
  "language_info": {
   "codemirror_mode": {
    "name": "ipython",
    "version": 3
   },
   "file_extension": ".py",
   "mimetype": "text/x-python",
   "name": "python",
   "nbconvert_exporter": "python",
   "pygments_lexer": "ipython3",
   "version": "3.9.19"
  },
  "toc": {
   "base_numbering": 1,
   "nav_menu": {},
   "number_sections": true,
   "sideBar": true,
   "skip_h1_title": false,
   "title_cell": "Table of Contents",
   "title_sidebar": "Contents",
   "toc_cell": false,
   "toc_position": {
    "height": "calc(100% - 180px)",
    "left": "10px",
    "top": "150px",
    "width": "255px"
   },
   "toc_section_display": true,
   "toc_window_display": true
  }
 },
 "nbformat": 4,
 "nbformat_minor": 1
}
